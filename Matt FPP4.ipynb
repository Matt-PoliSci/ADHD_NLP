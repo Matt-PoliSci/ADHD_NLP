{
 "cells": [
  {
   "cell_type": "markdown",
   "id": "9656beb3",
   "metadata": {},
   "source": [
    "## 1. Some Context. Web scraping was switched to the Pushshift API instead of PRAW, since PRAW limits the amount of scraping. With the API, I scraped the r/adhd subreddit 18 times, each time to try to match up with a descriptor of ADHD symptoms. I based API searches off of the \"Adult ADHD Clinical Diagnostic Scale\".  \n",
    "https://datashare.nida.nih.gov/sites/default/files/studydocs/276/MDS0007_CRF.pdf\n"
   ]
  },
  {
   "cell_type": "code",
   "execution_count": 62,
   "id": "9d965d0d",
   "metadata": {},
   "outputs": [
    {
     "name": "stdout",
     "output_type": "stream",
     "text": [
      "Requirement already satisfied: gensim in c:\\users\\mthom\\anaconda3\\lib\\site-packages (4.1.2)\n",
      "Requirement already satisfied: scipy>=0.18.1 in c:\\users\\mthom\\anaconda3\\lib\\site-packages (from gensim) (1.6.2)\n",
      "Requirement already satisfied: Cython==0.29.23 in c:\\users\\mthom\\anaconda3\\lib\\site-packages (from gensim) (0.29.23)\n",
      "Requirement already satisfied: numpy>=1.17.0 in c:\\users\\mthom\\anaconda3\\lib\\site-packages (from gensim) (1.20.2)\n",
      "Requirement already satisfied: smart-open>=1.8.1 in c:\\users\\mthom\\anaconda3\\lib\\site-packages (from gensim) (5.2.1)\n"
     ]
    },
    {
     "name": "stderr",
     "output_type": "stream",
     "text": [
      "[nltk_data] Downloading package punkt to\n",
      "[nltk_data]     C:\\Users\\mthom\\AppData\\Roaming\\nltk_data...\n",
      "[nltk_data]   Package punkt is already up-to-date!\n"
     ]
    }
   ],
   "source": [
    "!python -m pip install -U gensim\n",
    "import gensim \n",
    "from nltk.tokenize import sent_tokenize\n",
    "from nltk.tokenize.treebank import TreebankWordTokenizer\n",
    "import nltk\n",
    "nltk.download('punkt')\n",
    "import glob\n",
    "from pathlib import Path"
   ]
  },
  {
   "cell_type": "markdown",
   "id": "b89141be",
   "metadata": {},
   "source": [
    "##  Some pre-processing and doc segmentation out of order"
   ]
  },
  {
   "cell_type": "code",
   "execution_count": 63,
   "id": "7094b6b1",
   "metadata": {},
   "outputs": [
    {
     "data": {
      "text/plain": [
       "18"
      ]
     },
     "execution_count": 63,
     "metadata": {},
     "output_type": "execute_result"
    }
   ],
   "source": [
    "import os\n",
    "\n",
    "base_dir = '/Users/mthom/OneDrive - Emory University/Senior 1/QTM 340/CORPORA/' ##Found it easier to run the operations on my computer locally.\n",
    "all_docs = [] # our list which will store the text of each doc; empty for now\n",
    "\n",
    "docs = os.listdir(base_dir) # get a list of all the files in the directory\n",
    "\n",
    "for doc in docs: # iterate through  docs\n",
    "    if not doc.startswith('.'): # get only the .txt files\n",
    "        with open(base_dir + doc, \"r\", encoding=\"utf-8\") as file: # force unicode conversion to keep PCs happy\n",
    "            text = file.read() # read in the file as a single text string\n",
    "            all_docs.append(text) # append it to the all_docs list\n",
    "\n",
    "# Should be 18\n",
    "len(all_docs)\n"
   ]
  },
  {
   "cell_type": "markdown",
   "id": "3ddd82a7",
   "metadata": {},
   "source": [
    "## Some light cleaning, the Pushshift API had stuff come up surprisingly clean already though which is a blessing. Also find the length of the docs. "
   ]
  },
  {
   "cell_type": "code",
   "execution_count": 64,
   "id": "228d71c6",
   "metadata": {},
   "outputs": [
    {
     "name": "stdout",
     "output_type": "stream",
     "text": [
      "avoid\n",
      "Sentences: 41363\n",
      "blurts\n",
      "Sentences: 11411\n",
      "careless\n",
      "Sentences: 24317\n",
      "distracted\n",
      "Sentences: 56592\n",
      "fidget\n",
      "Sentences: 32259\n",
      "forgetful\n",
      "Sentences: 56017\n",
      "instructions\n",
      "Sentences: 35801\n",
      "interrupts\n",
      "Sentences: 26131\n",
      "listen\n",
      "Sentences: 102072\n",
      "misplaces\n",
      "Sentences: 128237\n",
      "moves\n",
      "Sentences: 27728\n",
      "onthego\n",
      "Sentences: 37789\n",
      "organization\n",
      "Sentences: 48913\n",
      "payingattention\n",
      "Sentences: 75098\n",
      "quiet\n",
      "Sentences: 55045\n",
      "seated\n",
      "Sentences: 95135\n",
      "talks\n",
      "Sentences: 18820\n",
      "waiting\n",
      "Sentences: 19604\n"
     ]
    }
   ],
   "source": [
    "# the handy nltk tokenizer \n",
    "tokenizer = TreebankWordTokenizer()\n",
    "\n",
    "# Get the titles of the docs. The title name represents what was scraped through the Pushshift API from reddit\n",
    "directory = '/Users/mthom/OneDrive - Emory University/Senior 1/QTM 340/CORPORA/'\n",
    "files = glob.glob(f\"{directory}/*.txt\")\n",
    "titles = [Path(file).stem for file in files]\n",
    "\n",
    "# and the function\n",
    "def make_sentences(list_txt):\n",
    "    all_txt = []\n",
    "    counter = 0\n",
    "    for txt in list_txt:\n",
    "        lower_txt = txt.lower()\n",
    "        sentences = sent_tokenize(lower_txt)\n",
    "        sentences = [tokenizer.tokenize(sent) for sent in sentences]\n",
    "        all_txt += sentences\n",
    "        print(titles[counter]) # Print the focus of each document\n",
    "        print(\"Sentences: \" + str(len(sentences)))  # See how long each document is. \n",
    "        counter += 1\n",
    "    return all_txt\n",
    "\n",
    "sentences = make_sentences(all_docs)"
   ]
  },
  {
   "cell_type": "markdown",
   "id": "9cbbbb1b",
   "metadata": {},
   "source": [
    "### Some of the docs are significantly larger than others, which likely indicates the phrasing used did not match up with people's expierences OR this symptom might not be as common as expected.\n",
    "\n",
    "## The model below is used to test out some words."
   ]
  },
  {
   "cell_type": "code",
   "execution_count": 65,
   "id": "3126d0b5",
   "metadata": {},
   "outputs": [
    {
     "name": "stderr",
     "output_type": "stream",
     "text": [
      "INFO : collecting all words and their counts\n",
      "INFO : PROGRESS: at sentence #0, processed 0 words, keeping 0 word types\n",
      "INFO : PROGRESS: at sentence #10000, processed 245275 words, keeping 11380 word types\n",
      "INFO : PROGRESS: at sentence #20000, processed 474520 words, keeping 16616 word types\n",
      "INFO : PROGRESS: at sentence #30000, processed 699954 words, keeping 20778 word types\n",
      "INFO : PROGRESS: at sentence #40000, processed 922044 words, keeping 24491 word types\n",
      "INFO : PROGRESS: at sentence #50000, processed 1143127 words, keeping 27406 word types\n",
      "INFO : PROGRESS: at sentence #60000, processed 1367555 words, keeping 30181 word types\n",
      "INFO : PROGRESS: at sentence #70000, processed 1597536 words, keeping 32449 word types\n",
      "INFO : PROGRESS: at sentence #80000, processed 1819395 words, keeping 34529 word types\n",
      "INFO : PROGRESS: at sentence #90000, processed 2043294 words, keeping 36185 word types\n",
      "INFO : PROGRESS: at sentence #100000, processed 2288197 words, keeping 38018 word types\n",
      "INFO : PROGRESS: at sentence #110000, processed 2511455 words, keeping 39841 word types\n",
      "INFO : PROGRESS: at sentence #120000, processed 2739313 words, keeping 41898 word types\n",
      "INFO : PROGRESS: at sentence #130000, processed 2963097 words, keeping 43932 word types\n",
      "INFO : PROGRESS: at sentence #140000, processed 3186133 words, keeping 45538 word types\n",
      "INFO : PROGRESS: at sentence #150000, processed 3420295 words, keeping 47141 word types\n",
      "INFO : PROGRESS: at sentence #160000, processed 3641302 words, keeping 48871 word types\n",
      "INFO : PROGRESS: at sentence #170000, processed 3863466 words, keeping 50250 word types\n",
      "INFO : PROGRESS: at sentence #180000, processed 4091772 words, keeping 51474 word types\n",
      "INFO : PROGRESS: at sentence #190000, processed 4315514 words, keeping 52583 word types\n",
      "INFO : PROGRESS: at sentence #200000, processed 4530344 words, keeping 53668 word types\n",
      "INFO : PROGRESS: at sentence #210000, processed 4751216 words, keeping 54935 word types\n",
      "INFO : PROGRESS: at sentence #220000, processed 4976258 words, keeping 56285 word types\n",
      "INFO : PROGRESS: at sentence #230000, processed 5200538 words, keeping 57432 word types\n",
      "INFO : PROGRESS: at sentence #240000, processed 5427059 words, keeping 59036 word types\n",
      "INFO : PROGRESS: at sentence #250000, processed 5651899 words, keeping 60307 word types\n",
      "INFO : PROGRESS: at sentence #260000, processed 5873596 words, keeping 61695 word types\n",
      "INFO : PROGRESS: at sentence #270000, processed 6102617 words, keeping 62800 word types\n",
      "INFO : PROGRESS: at sentence #280000, processed 6321420 words, keeping 63747 word types\n",
      "INFO : PROGRESS: at sentence #290000, processed 6546669 words, keeping 64843 word types\n",
      "INFO : PROGRESS: at sentence #300000, processed 6763909 words, keeping 65721 word types\n",
      "INFO : PROGRESS: at sentence #310000, processed 6991854 words, keeping 67049 word types\n",
      "INFO : PROGRESS: at sentence #320000, processed 7214550 words, keeping 68176 word types\n",
      "INFO : PROGRESS: at sentence #330000, processed 7435261 words, keeping 69299 word types\n",
      "INFO : PROGRESS: at sentence #340000, processed 7649676 words, keeping 70381 word types\n",
      "INFO : PROGRESS: at sentence #350000, processed 7866655 words, keeping 71709 word types\n",
      "INFO : PROGRESS: at sentence #360000, processed 8095121 words, keeping 72692 word types\n",
      "INFO : PROGRESS: at sentence #370000, processed 8316892 words, keeping 73948 word types\n",
      "INFO : PROGRESS: at sentence #380000, processed 8526782 words, keeping 74996 word types\n",
      "INFO : PROGRESS: at sentence #390000, processed 8751314 words, keeping 76000 word types\n",
      "INFO : PROGRESS: at sentence #400000, processed 8976986 words, keeping 76758 word types\n",
      "INFO : PROGRESS: at sentence #410000, processed 9203912 words, keeping 77751 word types\n",
      "INFO : PROGRESS: at sentence #420000, processed 9440480 words, keeping 78741 word types\n",
      "INFO : PROGRESS: at sentence #430000, processed 9654664 words, keeping 79810 word types\n",
      "INFO : PROGRESS: at sentence #440000, processed 9886715 words, keeping 80768 word types\n",
      "INFO : PROGRESS: at sentence #450000, processed 10107664 words, keeping 81683 word types\n",
      "INFO : PROGRESS: at sentence #460000, processed 10330975 words, keeping 82631 word types\n",
      "INFO : PROGRESS: at sentence #470000, processed 10552737 words, keeping 83508 word types\n",
      "INFO : PROGRESS: at sentence #480000, processed 10766649 words, keeping 84437 word types\n",
      "INFO : PROGRESS: at sentence #490000, processed 10979485 words, keeping 85294 word types\n",
      "INFO : PROGRESS: at sentence #500000, processed 11192203 words, keeping 86088 word types\n",
      "INFO : PROGRESS: at sentence #510000, processed 11402994 words, keeping 87180 word types\n",
      "INFO : PROGRESS: at sentence #520000, processed 11620689 words, keeping 88177 word types\n",
      "INFO : PROGRESS: at sentence #530000, processed 11834973 words, keeping 89214 word types\n",
      "INFO : PROGRESS: at sentence #540000, processed 12053373 words, keeping 90395 word types\n",
      "INFO : PROGRESS: at sentence #550000, processed 12275601 words, keeping 91209 word types\n",
      "INFO : PROGRESS: at sentence #560000, processed 12494060 words, keeping 92064 word types\n",
      "INFO : PROGRESS: at sentence #570000, processed 12711315 words, keeping 92824 word types\n",
      "INFO : PROGRESS: at sentence #580000, processed 12928975 words, keeping 93735 word types\n",
      "INFO : PROGRESS: at sentence #590000, processed 13157840 words, keeping 94620 word types\n",
      "INFO : PROGRESS: at sentence #600000, processed 13379889 words, keeping 95550 word types\n",
      "INFO : PROGRESS: at sentence #610000, processed 13599529 words, keeping 96608 word types\n",
      "INFO : PROGRESS: at sentence #620000, processed 13817360 words, keeping 97441 word types\n",
      "INFO : PROGRESS: at sentence #630000, processed 14039028 words, keeping 98605 word types\n",
      "INFO : PROGRESS: at sentence #640000, processed 14285527 words, keeping 99261 word types\n",
      "INFO : PROGRESS: at sentence #650000, processed 14514858 words, keeping 99878 word types\n",
      "INFO : PROGRESS: at sentence #660000, processed 14743883 words, keeping 100667 word types\n",
      "INFO : PROGRESS: at sentence #670000, processed 14966643 words, keeping 101257 word types\n",
      "INFO : PROGRESS: at sentence #680000, processed 15197913 words, keeping 101803 word types\n",
      "INFO : PROGRESS: at sentence #690000, processed 15429525 words, keeping 102370 word types\n",
      "INFO : PROGRESS: at sentence #700000, processed 15651539 words, keeping 102927 word types\n",
      "INFO : PROGRESS: at sentence #710000, processed 15876826 words, keeping 103527 word types\n",
      "INFO : PROGRESS: at sentence #720000, processed 16102964 words, keeping 104193 word types\n",
      "INFO : PROGRESS: at sentence #730000, processed 16331330 words, keeping 104816 word types\n",
      "INFO : PROGRESS: at sentence #740000, processed 16548153 words, keeping 105473 word types\n",
      "INFO : PROGRESS: at sentence #750000, processed 16769924 words, keeping 105955 word types\n",
      "INFO : PROGRESS: at sentence #760000, processed 16985165 words, keeping 106756 word types\n",
      "INFO : PROGRESS: at sentence #770000, processed 17209240 words, keeping 107313 word types\n",
      "INFO : PROGRESS: at sentence #780000, processed 17431035 words, keeping 107862 word types\n",
      "INFO : PROGRESS: at sentence #790000, processed 17650147 words, keeping 108438 word types\n",
      "INFO : PROGRESS: at sentence #800000, processed 17870969 words, keeping 108991 word types\n",
      "INFO : PROGRESS: at sentence #810000, processed 18088991 words, keeping 109624 word types\n",
      "INFO : PROGRESS: at sentence #820000, processed 18309084 words, keeping 110238 word types\n",
      "INFO : PROGRESS: at sentence #830000, processed 18533573 words, keeping 110831 word types\n",
      "INFO : PROGRESS: at sentence #840000, processed 18745275 words, keeping 111390 word types\n",
      "INFO : PROGRESS: at sentence #850000, processed 18953823 words, keeping 111869 word types\n",
      "INFO : PROGRESS: at sentence #860000, processed 19187938 words, keeping 112444 word types\n",
      "INFO : PROGRESS: at sentence #870000, processed 19409257 words, keeping 112884 word types\n",
      "INFO : PROGRESS: at sentence #880000, processed 19630642 words, keeping 113449 word types\n",
      "INFO : PROGRESS: at sentence #890000, processed 19846843 words, keeping 113811 word types\n",
      "INFO : collected 113957 word types from a corpus of 19896127 raw words and 892332 sentences\n",
      "INFO : Creating a fresh vocabulary\n",
      "INFO : Word2Vec lifecycle event {'msg': 'effective_min_count=6 retains 29075 unique words (25.51400967031424%% of original 113957, drops 84882)', 'datetime': '2021-12-08T17:01:13.314897', 'gensim': '4.1.2', 'python': '3.7.10 (default, Feb 26 2021, 13:06:18) [MSC v.1916 64 bit (AMD64)]', 'platform': 'Windows-10-10.0.19041-SP0', 'event': 'prepare_vocab'}\n"
     ]
    },
    {
     "name": "stderr",
     "output_type": "stream",
     "text": [
      "INFO : Word2Vec lifecycle event {'msg': 'effective_min_count=6 leaves 19741828 word corpus (99.22447720604116%% of original 19896127, drops 154299)', 'datetime': '2021-12-08T17:01:13.316891', 'gensim': '4.1.2', 'python': '3.7.10 (default, Feb 26 2021, 13:06:18) [MSC v.1916 64 bit (AMD64)]', 'platform': 'Windows-10-10.0.19041-SP0', 'event': 'prepare_vocab'}\n",
      "INFO : deleting the raw counts dictionary of 113957 items\n",
      "INFO : sample=0.001 downsamples 55 most-common words\n",
      "INFO : Word2Vec lifecycle event {'msg': 'downsampling leaves estimated 13867549.303942777 word corpus (70.2%% of prior 19741828)', 'datetime': '2021-12-08T17:01:13.586231', 'gensim': '4.1.2', 'python': '3.7.10 (default, Feb 26 2021, 13:06:18) [MSC v.1916 64 bit (AMD64)]', 'platform': 'Windows-10-10.0.19041-SP0', 'event': 'prepare_vocab'}\n",
      "INFO : estimated required memory for 29075 words and 400 dimensions: 107577500 bytes\n",
      "INFO : resetting layer weights\n",
      "INFO : Word2Vec lifecycle event {'update': False, 'trim_rule': 'None', 'datetime': '2021-12-08T17:01:14.064191', 'gensim': '4.1.2', 'python': '3.7.10 (default, Feb 26 2021, 13:06:18) [MSC v.1916 64 bit (AMD64)]', 'platform': 'Windows-10-10.0.19041-SP0', 'event': 'build_vocab'}\n",
      "INFO : Word2Vec lifecycle event {'msg': 'training model with 5 workers on 29075 vocabulary and 400 features, using sg=0 hs=0 sample=0.001 negative=5 window=5 shrink_windows=True', 'datetime': '2021-12-08T17:01:14.066184', 'gensim': '4.1.2', 'python': '3.7.10 (default, Feb 26 2021, 13:06:18) [MSC v.1916 64 bit (AMD64)]', 'platform': 'Windows-10-10.0.19041-SP0', 'event': 'train'}\n",
      "INFO : EPOCH 1 - PROGRESS: at 3.40% examples, 491158 words/s, in_qsize 9, out_qsize 0\n",
      "INFO : EPOCH 1 - PROGRESS: at 6.24% examples, 435582 words/s, in_qsize 9, out_qsize 0\n",
      "INFO : EPOCH 1 - PROGRESS: at 9.67% examples, 450881 words/s, in_qsize 9, out_qsize 0\n",
      "INFO : EPOCH 1 - PROGRESS: at 13.52% examples, 476353 words/s, in_qsize 9, out_qsize 0\n",
      "INFO : EPOCH 1 - PROGRESS: at 17.33% examples, 487893 words/s, in_qsize 9, out_qsize 0\n",
      "INFO : EPOCH 1 - PROGRESS: at 22.42% examples, 522669 words/s, in_qsize 9, out_qsize 0\n",
      "INFO : EPOCH 1 - PROGRESS: at 27.06% examples, 540289 words/s, in_qsize 9, out_qsize 0\n",
      "INFO : EPOCH 1 - PROGRESS: at 32.15% examples, 561464 words/s, in_qsize 9, out_qsize 0\n",
      "INFO : EPOCH 1 - PROGRESS: at 36.54% examples, 566031 words/s, in_qsize 9, out_qsize 0\n",
      "INFO : EPOCH 1 - PROGRESS: at 39.71% examples, 552530 words/s, in_qsize 10, out_qsize 0\n",
      "INFO : EPOCH 1 - PROGRESS: at 44.26% examples, 558816 words/s, in_qsize 9, out_qsize 0\n",
      "INFO : EPOCH 1 - PROGRESS: at 49.83% examples, 576766 words/s, in_qsize 9, out_qsize 0\n",
      "INFO : EPOCH 1 - PROGRESS: at 53.74% examples, 572893 words/s, in_qsize 9, out_qsize 0\n",
      "INFO : EPOCH 1 - PROGRESS: at 59.40% examples, 585562 words/s, in_qsize 8, out_qsize 1\n",
      "INFO : EPOCH 1 - PROGRESS: at 64.61% examples, 593576 words/s, in_qsize 9, out_qsize 0\n",
      "INFO : EPOCH 1 - PROGRESS: at 69.72% examples, 599746 words/s, in_qsize 9, out_qsize 0\n",
      "INFO : EPOCH 1 - PROGRESS: at 74.80% examples, 607255 words/s, in_qsize 9, out_qsize 0\n",
      "INFO : EPOCH 1 - PROGRESS: at 80.08% examples, 614627 words/s, in_qsize 9, out_qsize 0\n",
      "INFO : EPOCH 1 - PROGRESS: at 85.83% examples, 623902 words/s, in_qsize 9, out_qsize 0\n",
      "INFO : EPOCH 1 - PROGRESS: at 91.25% examples, 629385 words/s, in_qsize 9, out_qsize 0\n",
      "INFO : EPOCH 1 - PROGRESS: at 96.65% examples, 633848 words/s, in_qsize 9, out_qsize 0\n",
      "INFO : worker thread finished; awaiting finish of 4 more threads\n",
      "INFO : worker thread finished; awaiting finish of 3 more threads\n",
      "INFO : worker thread finished; awaiting finish of 2 more threads\n",
      "INFO : worker thread finished; awaiting finish of 1 more threads\n",
      "INFO : worker thread finished; awaiting finish of 0 more threads\n",
      "INFO : EPOCH - 1 : training on 19896127 raw words (13869574 effective words) took 21.7s, 638557 effective words/s\n",
      "INFO : EPOCH 2 - PROGRESS: at 5.63% examples, 789753 words/s, in_qsize 9, out_qsize 0\n",
      "INFO : EPOCH 2 - PROGRESS: at 11.04% examples, 781443 words/s, in_qsize 9, out_qsize 0\n",
      "INFO : EPOCH 2 - PROGRESS: at 17.03% examples, 799220 words/s, in_qsize 9, out_qsize 0\n",
      "INFO : EPOCH 2 - PROGRESS: at 23.16% examples, 807749 words/s, in_qsize 9, out_qsize 0\n",
      "INFO : EPOCH 2 - PROGRESS: at 29.16% examples, 813193 words/s, in_qsize 9, out_qsize 0\n",
      "INFO : EPOCH 2 - PROGRESS: at 34.57% examples, 801418 words/s, in_qsize 9, out_qsize 0\n",
      "INFO : EPOCH 2 - PROGRESS: at 40.29% examples, 798038 words/s, in_qsize 9, out_qsize 0\n",
      "INFO : EPOCH 2 - PROGRESS: at 46.44% examples, 804702 words/s, in_qsize 9, out_qsize 0\n",
      "INFO : EPOCH 2 - PROGRESS: at 52.55% examples, 808530 words/s, in_qsize 9, out_qsize 0\n",
      "INFO : EPOCH 2 - PROGRESS: at 58.16% examples, 801801 words/s, in_qsize 9, out_qsize 0\n",
      "INFO : EPOCH 2 - PROGRESS: at 63.37% examples, 793446 words/s, in_qsize 9, out_qsize 0\n",
      "INFO : EPOCH 2 - PROGRESS: at 68.03% examples, 779374 words/s, in_qsize 9, out_qsize 0\n",
      "INFO : EPOCH 2 - PROGRESS: at 72.97% examples, 773299 words/s, in_qsize 9, out_qsize 0\n",
      "INFO : EPOCH 2 - PROGRESS: at 78.43% examples, 772333 words/s, in_qsize 9, out_qsize 0\n",
      "INFO : EPOCH 2 - PROGRESS: at 83.08% examples, 763934 words/s, in_qsize 9, out_qsize 0\n",
      "INFO : EPOCH 2 - PROGRESS: at 88.56% examples, 762866 words/s, in_qsize 9, out_qsize 0\n",
      "INFO : EPOCH 2 - PROGRESS: at 93.56% examples, 757661 words/s, in_qsize 9, out_qsize 0\n",
      "INFO : EPOCH 2 - PROGRESS: at 98.27% examples, 751430 words/s, in_qsize 9, out_qsize 0\n",
      "INFO : worker thread finished; awaiting finish of 4 more threads\n",
      "INFO : worker thread finished; awaiting finish of 3 more threads\n",
      "INFO : worker thread finished; awaiting finish of 2 more threads\n",
      "INFO : worker thread finished; awaiting finish of 1 more threads\n",
      "INFO : worker thread finished; awaiting finish of 0 more threads\n",
      "INFO : EPOCH - 2 : training on 19896127 raw words (13868796 effective words) took 18.4s, 752892 effective words/s\n",
      "INFO : EPOCH 3 - PROGRESS: at 4.91% examples, 702959 words/s, in_qsize 9, out_qsize 0\n",
      "INFO : EPOCH 3 - PROGRESS: at 9.06% examples, 640498 words/s, in_qsize 9, out_qsize 0\n",
      "INFO : EPOCH 3 - PROGRESS: at 14.76% examples, 696654 words/s, in_qsize 9, out_qsize 0\n",
      "INFO : EPOCH 3 - PROGRESS: at 20.12% examples, 708890 words/s, in_qsize 9, out_qsize 0\n",
      "INFO : EPOCH 3 - PROGRESS: at 25.56% examples, 715772 words/s, in_qsize 9, out_qsize 0\n",
      "INFO : EPOCH 3 - PROGRESS: at 31.00% examples, 723068 words/s, in_qsize 9, out_qsize 0\n",
      "INFO : EPOCH 3 - PROGRESS: at 36.78% examples, 733146 words/s, in_qsize 9, out_qsize 0\n",
      "INFO : EPOCH 3 - PROGRESS: at 41.09% examples, 715588 words/s, in_qsize 9, out_qsize 0\n",
      "INFO : EPOCH 3 - PROGRESS: at 45.52% examples, 702724 words/s, in_qsize 9, out_qsize 0\n",
      "INFO : EPOCH 3 - PROGRESS: at 50.33% examples, 700032 words/s, in_qsize 9, out_qsize 0\n",
      "INFO : EPOCH 3 - PROGRESS: at 55.87% examples, 703131 words/s, in_qsize 9, out_qsize 0\n",
      "INFO : EPOCH 3 - PROGRESS: at 61.54% examples, 707536 words/s, in_qsize 9, out_qsize 0\n",
      "INFO : EPOCH 3 - PROGRESS: at 66.30% examples, 703340 words/s, in_qsize 8, out_qsize 1\n",
      "INFO : EPOCH 3 - PROGRESS: at 70.57% examples, 694357 words/s, in_qsize 10, out_qsize 0\n",
      "INFO : EPOCH 3 - PROGRESS: at 75.54% examples, 695565 words/s, in_qsize 9, out_qsize 0\n",
      "INFO : EPOCH 3 - PROGRESS: at 79.72% examples, 688817 words/s, in_qsize 9, out_qsize 0\n",
      "INFO : EPOCH 3 - PROGRESS: at 85.03% examples, 691230 words/s, in_qsize 9, out_qsize 0\n",
      "INFO : EPOCH 3 - PROGRESS: at 89.67% examples, 687660 words/s, in_qsize 10, out_qsize 0\n",
      "INFO : EPOCH 3 - PROGRESS: at 94.03% examples, 681745 words/s, in_qsize 9, out_qsize 0\n",
      "INFO : EPOCH 3 - PROGRESS: at 98.78% examples, 680258 words/s, in_qsize 9, out_qsize 0\n",
      "INFO : worker thread finished; awaiting finish of 4 more threads\n",
      "INFO : worker thread finished; awaiting finish of 3 more threads\n",
      "INFO : worker thread finished; awaiting finish of 2 more threads\n",
      "INFO : worker thread finished; awaiting finish of 1 more threads\n",
      "INFO : worker thread finished; awaiting finish of 0 more threads\n",
      "INFO : EPOCH - 3 : training on 19896127 raw words (13864897 effective words) took 20.4s, 679356 effective words/s\n",
      "INFO : EPOCH 4 - PROGRESS: at 3.89% examples, 561900 words/s, in_qsize 9, out_qsize 0\n",
      "INFO : EPOCH 4 - PROGRESS: at 8.76% examples, 616855 words/s, in_qsize 10, out_qsize 0\n"
     ]
    },
    {
     "name": "stderr",
     "output_type": "stream",
     "text": [
      "INFO : EPOCH 4 - PROGRESS: at 13.22% examples, 624556 words/s, in_qsize 9, out_qsize 0\n",
      "INFO : EPOCH 4 - PROGRESS: at 18.04% examples, 635650 words/s, in_qsize 9, out_qsize 0\n",
      "INFO : EPOCH 4 - PROGRESS: at 22.42% examples, 628086 words/s, in_qsize 9, out_qsize 0\n",
      "INFO : EPOCH 4 - PROGRESS: at 27.28% examples, 634989 words/s, in_qsize 9, out_qsize 0\n",
      "INFO : EPOCH 4 - PROGRESS: at 31.92% examples, 636753 words/s, in_qsize 9, out_qsize 0\n",
      "INFO : EPOCH 4 - PROGRESS: at 37.71% examples, 656907 words/s, in_qsize 9, out_qsize 0\n",
      "INFO : EPOCH 4 - PROGRESS: at 44.00% examples, 679142 words/s, in_qsize 10, out_qsize 0\n",
      "INFO : EPOCH 4 - PROGRESS: at 50.04% examples, 695322 words/s, in_qsize 9, out_qsize 0\n",
      "INFO : EPOCH 4 - PROGRESS: at 55.17% examples, 694374 words/s, in_qsize 9, out_qsize 0\n",
      "INFO : EPOCH 4 - PROGRESS: at 60.53% examples, 696410 words/s, in_qsize 9, out_qsize 0\n",
      "INFO : EPOCH 4 - PROGRESS: at 65.03% examples, 688272 words/s, in_qsize 9, out_qsize 0\n",
      "INFO : EPOCH 4 - PROGRESS: at 68.70% examples, 675487 words/s, in_qsize 9, out_qsize 0\n",
      "INFO : EPOCH 4 - PROGRESS: at 73.02% examples, 669529 words/s, in_qsize 10, out_qsize 1\n",
      "INFO : EPOCH 4 - PROGRESS: at 77.03% examples, 663362 words/s, in_qsize 9, out_qsize 0\n",
      "INFO : EPOCH 4 - PROGRESS: at 81.41% examples, 660168 words/s, in_qsize 9, out_qsize 0\n",
      "INFO : EPOCH 4 - PROGRESS: at 85.67% examples, 655537 words/s, in_qsize 9, out_qsize 0\n",
      "INFO : EPOCH 4 - PROGRESS: at 90.39% examples, 654848 words/s, in_qsize 9, out_qsize 0\n",
      "INFO : EPOCH 4 - PROGRESS: at 94.61% examples, 650277 words/s, in_qsize 8, out_qsize 1\n",
      "INFO : EPOCH 4 - PROGRESS: at 97.30% examples, 637162 words/s, in_qsize 10, out_qsize 0\n",
      "INFO : worker thread finished; awaiting finish of 4 more threads\n",
      "INFO : EPOCH 4 - PROGRESS: at 99.83% examples, 622073 words/s, in_qsize 1, out_qsize 5\n",
      "INFO : worker thread finished; awaiting finish of 3 more threads\n",
      "INFO : worker thread finished; awaiting finish of 2 more threads\n",
      "INFO : worker thread finished; awaiting finish of 1 more threads\n",
      "INFO : worker thread finished; awaiting finish of 0 more threads\n",
      "INFO : EPOCH - 4 : training on 19896127 raw words (13869501 effective words) took 22.3s, 621041 effective words/s\n",
      "INFO : EPOCH 5 - PROGRESS: at 3.59% examples, 519293 words/s, in_qsize 9, out_qsize 0\n",
      "INFO : EPOCH 5 - PROGRESS: at 7.95% examples, 561983 words/s, in_qsize 9, out_qsize 0\n",
      "INFO : EPOCH 5 - PROGRESS: at 12.50% examples, 589646 words/s, in_qsize 9, out_qsize 0\n",
      "INFO : EPOCH 5 - PROGRESS: at 16.39% examples, 578554 words/s, in_qsize 9, out_qsize 0\n",
      "INFO : EPOCH 5 - PROGRESS: at 21.13% examples, 594776 words/s, in_qsize 9, out_qsize 0\n",
      "INFO : EPOCH 5 - PROGRESS: at 25.42% examples, 593358 words/s, in_qsize 10, out_qsize 0\n",
      "INFO : EPOCH 5 - PROGRESS: at 29.21% examples, 584365 words/s, in_qsize 9, out_qsize 0\n",
      "INFO : EPOCH 5 - PROGRESS: at 33.19% examples, 578997 words/s, in_qsize 9, out_qsize 0\n",
      "INFO : EPOCH 5 - PROGRESS: at 36.59% examples, 567145 words/s, in_qsize 9, out_qsize 0\n",
      "INFO : EPOCH 5 - PROGRESS: at 40.83% examples, 568109 words/s, in_qsize 9, out_qsize 0\n",
      "INFO : EPOCH 5 - PROGRESS: at 45.16% examples, 568824 words/s, in_qsize 9, out_qsize 0\n",
      "INFO : EPOCH 5 - PROGRESS: at 48.27% examples, 557700 words/s, in_qsize 10, out_qsize 1\n",
      "INFO : EPOCH 5 - PROGRESS: at 50.95% examples, 543443 words/s, in_qsize 9, out_qsize 0\n",
      "INFO : EPOCH 5 - PROGRESS: at 54.17% examples, 535560 words/s, in_qsize 10, out_qsize 0\n",
      "INFO : EPOCH 5 - PROGRESS: at 57.51% examples, 528989 words/s, in_qsize 9, out_qsize 0\n",
      "INFO : EPOCH 5 - PROGRESS: at 61.34% examples, 528323 words/s, in_qsize 9, out_qsize 0\n",
      "INFO : EPOCH 5 - PROGRESS: at 65.37% examples, 529305 words/s, in_qsize 9, out_qsize 0\n",
      "INFO : EPOCH 5 - PROGRESS: at 69.57% examples, 531666 words/s, in_qsize 9, out_qsize 0\n",
      "INFO : EPOCH 5 - PROGRESS: at 73.51% examples, 533042 words/s, in_qsize 9, out_qsize 0\n",
      "INFO : EPOCH 5 - PROGRESS: at 77.63% examples, 535427 words/s, in_qsize 9, out_qsize 0\n",
      "INFO : EPOCH 5 - PROGRESS: at 81.90% examples, 538228 words/s, in_qsize 9, out_qsize 0\n",
      "INFO : EPOCH 5 - PROGRESS: at 85.27% examples, 534232 words/s, in_qsize 8, out_qsize 1\n",
      "INFO : EPOCH 5 - PROGRESS: at 89.37% examples, 535417 words/s, in_qsize 9, out_qsize 0\n",
      "INFO : EPOCH 5 - PROGRESS: at 94.89% examples, 543854 words/s, in_qsize 9, out_qsize 0\n",
      "INFO : EPOCH 5 - PROGRESS: at 99.71% examples, 548608 words/s, in_qsize 6, out_qsize 0\n",
      "INFO : worker thread finished; awaiting finish of 4 more threads\n",
      "INFO : worker thread finished; awaiting finish of 3 more threads\n",
      "INFO : worker thread finished; awaiting finish of 2 more threads\n",
      "INFO : worker thread finished; awaiting finish of 1 more threads\n",
      "INFO : worker thread finished; awaiting finish of 0 more threads\n",
      "INFO : EPOCH - 5 : training on 19896127 raw words (13866666 effective words) took 25.2s, 549303 effective words/s\n",
      "INFO : Word2Vec lifecycle event {'msg': 'training on 99480635 raw words (69339434 effective words) took 108.6s, 638746 effective words/s', 'datetime': '2021-12-08T17:03:02.624112', 'gensim': '4.1.2', 'python': '3.7.10 (default, Feb 26 2021, 13:06:18) [MSC v.1916 64 bit (AMD64)]', 'platform': 'Windows-10-10.0.19041-SP0', 'event': 'train'}\n",
      "INFO : Word2Vec lifecycle event {'params': 'Word2Vec(vocab=29075, vector_size=400, alpha=0.025)', 'datetime': '2021-12-08T17:03:02.625109', 'gensim': '4.1.2', 'python': '3.7.10 (default, Feb 26 2021, 13:06:18) [MSC v.1916 64 bit (AMD64)]', 'platform': 'Windows-10-10.0.19041-SP0', 'event': 'created'}\n"
     ]
    }
   ],
   "source": [
    "adhd_model = gensim.models.Word2Vec(\n",
    "    sentences,\n",
    "    min_count=6, # Tried a few times, 6 works well.\n",
    "    vector_size=400, # Tested a few times, 400 works well.\n",
    "    workers=5) "
   ]
  },
  {
   "cell_type": "code",
   "execution_count": 66,
   "id": "61682dbe",
   "metadata": {},
   "outputs": [
    {
     "name": "stderr",
     "output_type": "stream",
     "text": [
      "INFO : Word2Vec lifecycle event {'fname_or_handle': 'adhd_model', 'separately': 'None', 'sep_limit': 10485760, 'ignore': frozenset(), 'datetime': '2021-12-08T17:03:02.817592', 'gensim': '4.1.2', 'python': '3.7.10 (default, Feb 26 2021, 13:06:18) [MSC v.1916 64 bit (AMD64)]', 'platform': 'Windows-10-10.0.19041-SP0', 'event': 'saving'}\n",
      "INFO : storing np array 'vectors' to adhd_model.wv.vectors.npy\n",
      "INFO : storing np array 'syn1neg' to adhd_model.syn1neg.npy\n",
      "INFO : not storing attribute cum_table\n",
      "INFO : saved adhd_model\n"
     ]
    }
   ],
   "source": [
    "adhd_model.save('adhd_model')"
   ]
  },
  {
   "cell_type": "markdown",
   "id": "f3309aea",
   "metadata": {},
   "source": [
    "## Time to test out some simplified version of symptoms.\n",
    "### We'll start with the three titles associated with ADHD (inattention, hyperactive, impulsive"
   ]
  },
  {
   "cell_type": "code",
   "execution_count": 67,
   "id": "b9cd62b8",
   "metadata": {},
   "outputs": [
    {
     "data": {
      "text/plain": [
       "[('innatentive', 0.6944334506988525),\n",
       " ('pi', 0.6840545535087585),\n",
       " ('combined', 0.6721208691596985),\n",
       " ('predominantly', 0.6622161269187927),\n",
       " ('hyperactive', 0.6334655284881592),\n",
       " ('hyperactive-impulsive', 0.6233935952186584),\n",
       " ('adhd-pi', 0.6117693781852722),\n",
       " ('adhd-inattentive', 0.5840573310852051),\n",
       " ('inatentive', 0.5763453841209412),\n",
       " ('autism', 0.5720027685165405),\n",
       " ('asd', 0.5693138837814331),\n",
       " ('ocd', 0.5587474703788757),\n",
       " ('adhd-ph', 0.5540632009506226),\n",
       " ('aspergers', 0.5461999177932739),\n",
       " ('subtype', 0.5456984639167786)]"
      ]
     },
     "execution_count": 67,
     "metadata": {},
     "output_type": "execute_result"
    }
   ],
   "source": [
    "adhd_model.wv.most_similar(\"inattentive\", topn=15) #\"pi\" means primairly innattentive. \"asd\" refers to autrism spectrum - which is an interseting association with inattention"
   ]
  },
  {
   "cell_type": "code",
   "execution_count": 68,
   "id": "9cc11693",
   "metadata": {},
   "outputs": [
    {
     "data": {
      "text/plain": [
       "[('inattentive', 0.6334655284881592),\n",
       " ('disruptive', 0.6261882781982422),\n",
       " ('hyperactivity', 0.6159667372703552),\n",
       " ('fidgety', 0.6124590039253235),\n",
       " ('talkative', 0.6007491946220398),\n",
       " ('shy', 0.6003729104995728),\n",
       " ('introverted', 0.5985641479492188),\n",
       " ('dreamy', 0.5873985886573792),\n",
       " ('spacey', 0.5812333822250366),\n",
       " ('autistic', 0.580130934715271),\n",
       " ('violent', 0.5784462690353394),\n",
       " ('reserved', 0.563220202922821),\n",
       " ('stereotypical', 0.5618754029273987),\n",
       " ('chatty', 0.5561536550521851),\n",
       " ('outgoing', 0.5456730723381042)]"
      ]
     },
     "execution_count": 68,
     "metadata": {},
     "output_type": "execute_result"
    }
   ],
   "source": [
    "adhd_model.wv.most_similar(\"hyperactive\", topn=15) ##Some interesting user associations with the word hyperactive. Wouldn't typicall yassociate \"introverted and shy\" with hyperactive"
   ]
  },
  {
   "cell_type": "code",
   "execution_count": 69,
   "id": "a8d57f74",
   "metadata": {},
   "outputs": [
    {
     "data": {
      "text/plain": [
       "[('reckless', 0.6715306639671326),\n",
       " ('clumsy', 0.6339348554611206),\n",
       " ('forgetful', 0.6036108136177063),\n",
       " ('aggressive', 0.603134036064148),\n",
       " ('talkative', 0.5978946685791016),\n",
       " ('disorganised', 0.5937029719352722),\n",
       " ('excitable', 0.590530276298523),\n",
       " ('spacey', 0.5795295834541321),\n",
       " ('fidgety', 0.5661801695823669),\n",
       " ('risky', 0.5647457838058472),\n",
       " ('reactive', 0.5599632263183594),\n",
       " ('impatient', 0.5590059757232666),\n",
       " ('immature', 0.5548710227012634),\n",
       " ('scatterbrained', 0.5531717538833618),\n",
       " ('childish', 0.5530824661254883)]"
      ]
     },
     "execution_count": 69,
     "metadata": {},
     "output_type": "execute_result"
    }
   ],
   "source": [
    "adhd_model.wv.most_similar(\"impulsive\", topn=15) ##Again seems to be a broad array of associations. Impulsive is associated with being excitable and avoidant?"
   ]
  },
  {
   "cell_type": "markdown",
   "id": "fa911efb",
   "metadata": {},
   "source": [
    "### And now to test out some of the specific ADHD symptoms, at least the easy ones"
   ]
  },
  {
   "cell_type": "code",
   "execution_count": 70,
   "id": "4ab831a3",
   "metadata": {},
   "outputs": [
    {
     "data": {
      "text/plain": [
       "[('“careless”', 0.6042772531509399),\n",
       " ('sloppy', 0.5900443196296692),\n",
       " ('forgetful', 0.5794960856437683),\n",
       " ('clumsy', 0.5588237047195435),\n",
       " ('errors', 0.5586423873901367),\n",
       " ('mistakes', 0.557075023651123),\n",
       " ('dumb', 0.5409373044967651),\n",
       " ('irresponsible', 0.5286861062049866),\n",
       " ('silly', 0.5278342366218567),\n",
       " ('stupid', 0.5268055200576782)]"
      ]
     },
     "execution_count": 70,
     "metadata": {},
     "output_type": "execute_result"
    }
   ],
   "source": [
    "adhd_model.wv.most_similar(\"careless\", topn=10) ##This one seems very similar to each other, but with a lot of words that have negative connotations"
   ]
  },
  {
   "cell_type": "code",
   "execution_count": 71,
   "id": "5ef689ef",
   "metadata": {},
   "outputs": [
    {
     "data": {
      "text/plain": [
       "[('organise', 0.8177522420883179),\n",
       " ('prioritize', 0.6396051645278931),\n",
       " ('execute', 0.5879781246185303),\n",
       " ('gather', 0.572615921497345),\n",
       " ('retrieve', 0.5601252317428589),\n",
       " ('memorize', 0.5534650087356567),\n",
       " ('implement', 0.5531120300292969),\n",
       " ('tackle', 0.5529537796974182),\n",
       " ('manage', 0.550489068031311),\n",
       " ('collect', 0.5456726551055908),\n",
       " ('visualize', 0.5372793078422546),\n",
       " ('arrange', 0.5336962342262268),\n",
       " ('articulate', 0.5332508087158203),\n",
       " ('utilize', 0.5240079164505005),\n",
       " ('commit', 0.5232197642326355)]"
      ]
     },
     "execution_count": 71,
     "metadata": {},
     "output_type": "execute_result"
    }
   ],
   "source": [
    "adhd_model.wv.most_similar(\"organize\", topn=15) ##Seems like organizing fits into a variety of actionable verbs."
   ]
  },
  {
   "cell_type": "code",
   "execution_count": 72,
   "id": "af34a489",
   "metadata": {},
   "outputs": [
    {
     "data": {
      "text/plain": [
       "[('chatty', 0.820380687713623),\n",
       " ('introverted', 0.7916626334190369),\n",
       " ('outgoing', 0.7682960033416748),\n",
       " ('energetic', 0.7650719881057739),\n",
       " ('reserved', 0.744716227054596),\n",
       " ('shy', 0.7445093393325806),\n",
       " ('extroverted', 0.7416922450065613),\n",
       " ('clumsy', 0.7329865097999573),\n",
       " ('spacey', 0.7289618253707886),\n",
       " ('fidgety', 0.721991777420044),\n",
       " ('sociable', 0.7191054821014404),\n",
       " ('opinionated', 0.6932777166366577),\n",
       " ('empathetic', 0.6843442916870117),\n",
       " ('polite', 0.6789767146110535),\n",
       " ('disruptive', 0.6657646298408508)]"
      ]
     },
     "execution_count": 72,
     "metadata": {},
     "output_type": "execute_result"
    }
   ],
   "source": [
    "adhd_model.wv.most_similar(\"talkative\", topn=15) ##This one is not very useful. The symptom about struggling to listen does not match well to this doc."
   ]
  },
  {
   "cell_type": "code",
   "execution_count": 73,
   "id": "3b2da76e",
   "metadata": {},
   "outputs": [
    {
     "data": {
      "text/plain": [
       "[('jittery', 0.7138804793357849),\n",
       " ('fidgety', 0.6894580721855164),\n",
       " ('agitated', 0.6757946610450745),\n",
       " ('fatigued', 0.6734806895256042),\n",
       " ('lethargic', 0.6696224212646484),\n",
       " ('irritable', 0.645696759223938),\n",
       " ('antsy', 0.6269670724868774),\n",
       " ('sleepy', 0.623403012752533),\n",
       " ('dizzy', 0.62251216173172),\n",
       " ('tense', 0.6199596524238586),\n",
       " ('anxious', 0.6144980788230896),\n",
       " ('foggy', 0.600687563419342),\n",
       " ('nauseous', 0.5971139669418335),\n",
       " ('sluggish', 0.5931520462036133),\n",
       " ('moody', 0.5616255402565002)]"
      ]
     },
     "execution_count": 73,
     "metadata": {},
     "output_type": "execute_result"
    }
   ],
   "source": [
    "adhd_model.wv.most_similar(\"restless\", topn=15) ##Logical similarities."
   ]
  },
  {
   "cell_type": "code",
   "execution_count": 74,
   "id": "012636d0",
   "metadata": {},
   "outputs": [
    {
     "data": {
      "text/plain": [
       "[('remaining', 0.5390201210975647),\n",
       " ('seat', 0.47399428486824036),\n",
       " ('sane', 0.4624331593513489),\n",
       " ('engaged', 0.45221009850502014),\n",
       " ('awake', 0.444064199924469),\n",
       " ('unwinding', 0.42575544118881226),\n",
       " ('hydrated', 0.41824039816856384),\n",
       " ('concentrated', 0.412509024143219),\n",
       " ('passenger', 0.40965646505355835),\n",
       " ('quiet', 0.40387728810310364)]"
      ]
     },
     "execution_count": 74,
     "metadata": {},
     "output_type": "execute_result"
    }
   ],
   "source": [
    "adhd_model.wv.most_similar(\"seated\", topn=10) ##The remaining seated symptom seems to struggle with strong associations, but the inclusion of \"sane\" and \"engaged\" seem relevant."
   ]
  },
  {
   "cell_type": "markdown",
   "id": "4e347932",
   "metadata": {},
   "source": [
    "### These very preliminary results do indicate several interesting findings. Several symptoms have some word associations that would be considered unexpected. One wouldn't typically associate hyperactive with being shy or impulsiveness with being avoidant. Some next steps would be to refine the search terms used with the api for data collection. Further work then includes taking a more finalized set of search terms and putting those results into a table to see if there are any results that occur across most similar terms. From there I can use some LDA models from common most similar words to build a larger lexicon of words per symptom as well as uncover other groupings of symptoms."
   ]
  },
  {
   "cell_type": "code",
   "execution_count": 75,
   "id": "9ac509d7",
   "metadata": {},
   "outputs": [
    {
     "data": {
      "text/plain": [
       "[('concentrate', 0.8481261730194092),\n",
       " ('focused', 0.6091128587722778),\n",
       " ('hyper-focus', 0.6025528907775879),\n",
       " ('multitask', 0.5992745757102966),\n",
       " ('focusing', 0.5961366891860962),\n",
       " ('grasp', 0.5429612398147583),\n",
       " ('fixate', 0.5339042544364929),\n",
       " ('concentration', 0.5309540629386902),\n",
       " ('hyperfocus', 0.5192564129829407),\n",
       " ('perform', 0.4820605218410492),\n",
       " ('fixating', 0.481469064950943),\n",
       " ('prioritize', 0.48124343156814575),\n",
       " ('handle', 0.47508662939071655),\n",
       " ('relax', 0.4741531014442444),\n",
       " ('focussing', 0.4717353284358978)]"
      ]
     },
     "execution_count": 75,
     "metadata": {},
     "output_type": "execute_result"
    }
   ],
   "source": [
    "adhd_model.wv.most_similar(\"focus\", topn=15)"
   ]
  },
  {
   "cell_type": "code",
   "execution_count": 76,
   "id": "54262347",
   "metadata": {},
   "outputs": [
    {
     "data": {
      "text/plain": [
       "[('concentration', 0.5320252776145935),\n",
       " ('handwriting', 0.5230250954627991),\n",
       " ('spatial', 0.48069703578948975),\n",
       " ('organisation', 0.4729907214641571),\n",
       " ('span', 0.4508339464664459),\n",
       " ('temper', 0.44150879979133606),\n",
       " ('forgetfulness', 0.42994481325149536),\n",
       " ('impulsiveness', 0.41667038202285767),\n",
       " ('retention', 0.4121578335762024),\n",
       " ('mood', 0.4120362401008606),\n",
       " ('organization', 0.4104546010494232),\n",
       " ('insomnia', 0.40677115321159363),\n",
       " ('listener', 0.4019554853439331),\n",
       " ('memory**', 0.40187662839889526),\n",
       " ('auditory', 0.40172940492630005)]"
      ]
     },
     "execution_count": 76,
     "metadata": {},
     "output_type": "execute_result"
    }
   ],
   "source": [
    "adhd_model.wv.most_similar(\"memory\", topn=15)"
   ]
  },
  {
   "cell_type": "code",
   "execution_count": 77,
   "id": "be2c7b41",
   "metadata": {},
   "outputs": [
    {
     "data": {
      "text/plain": [
       "[('trouble', 0.7610747218132019),\n",
       " ('difficulties', 0.6497974395751953),\n",
       " ('troubles', 0.6218414902687073),\n",
       " ('**trouble', 0.511652946472168),\n",
       " ('**problems', 0.498218834400177),\n",
       " ('**difficulty', 0.48839282989501953),\n",
       " ('problems', 0.45324623584747314),\n",
       " ('sustaining', 0.44685259461402893),\n",
       " ('hyperactivity**', 0.435110479593277),\n",
       " ('assists', 0.42267823219299316),\n",
       " ('maintaining', 0.42101895809173584),\n",
       " ('issues', 0.41539111733436584),\n",
       " ('leisurely', 0.4144740700721741),\n",
       " ('***problem', 0.41301286220550537),\n",
       " ('struggled', 0.4124029576778412)]"
      ]
     },
     "execution_count": 77,
     "metadata": {},
     "output_type": "execute_result"
    }
   ],
   "source": [
    "adhd_model.wv.most_similar(\"difficulty\", topn=15)"
   ]
  },
  {
   "cell_type": "code",
   "execution_count": 78,
   "id": "08ade80f",
   "metadata": {},
   "outputs": [
    {
     "data": {
      "text/plain": [
       "[('spacey', 0.7735702991485596),\n",
       " ('clumsy', 0.7679845094680786),\n",
       " ('disorganised', 0.7478817105293274),\n",
       " ('absent-minded', 0.7193900346755981),\n",
       " ('unorganised', 0.7123687267303467),\n",
       " ('irresponsible', 0.7070583701133728),\n",
       " ('forgetful', 0.7070427536964417),\n",
       " ('unfocused', 0.7020904421806335),\n",
       " ('unorganized', 0.70011967420578),\n",
       " ('disorganized', 0.6838431358337402),\n",
       " ('lethargic', 0.68073570728302),\n",
       " ('immature', 0.6779195666313171),\n",
       " ('argumentative', 0.6622096300125122),\n",
       " ('moody', 0.6595907807350159),\n",
       " ('ditzy', 0.6540588140487671)]"
      ]
     },
     "execution_count": 78,
     "metadata": {},
     "output_type": "execute_result"
    }
   ],
   "source": [
    "adhd_model.wv.most_similar(\"scatterbrained\", topn=15)"
   ]
  },
  {
   "cell_type": "code",
   "execution_count": 79,
   "id": "ff62ce48",
   "metadata": {},
   "outputs": [
    {
     "data": {
      "text/plain": [
       "[('regulation', 0.8334793448448181),\n",
       " ('disregulation', 0.8171661496162415),\n",
       " ('deregulation', 0.7275749444961548),\n",
       " ('reactivity', 0.7013592720031738),\n",
       " ('hypersensitivity', 0.6800256967544556),\n",
       " ('blunting', 0.677998423576355),\n",
       " ('outbursts', 0.6621201038360596),\n",
       " ('instability', 0.6581079959869385),\n",
       " ('flatness', 0.6484003067016602),\n",
       " ('self-regulation', 0.6396342515945435),\n",
       " ('disturbances', 0.630136251449585),\n",
       " ('impatience', 0.6208693385124207),\n",
       " ('lability', 0.6159254908561707),\n",
       " ('impulsiveness', 0.6140985488891602),\n",
       " ('explosions', 0.6006250977516174)]"
      ]
     },
     "execution_count": 79,
     "metadata": {},
     "output_type": "execute_result"
    }
   ],
   "source": [
    "adhd_model.wv.most_similar(\"dysregulation\", topn=15)"
   ]
  },
  {
   "cell_type": "code",
   "execution_count": 80,
   "id": "1342136c",
   "metadata": {},
   "outputs": [
    {
     "data": {
      "text/plain": [
       "[('sidetracked', 0.6984801292419434),\n",
       " ('bored', 0.6892499327659607),\n",
       " ('irritated', 0.6187742948532104),\n",
       " ('bored/distracted', 0.6156244874000549),\n",
       " ('overwhelmed', 0.6077423691749573),\n",
       " ('agitated', 0.5751602053642273),\n",
       " ('derailed', 0.548134446144104),\n",
       " ('frustrated', 0.5477302074432373),\n",
       " ('antsy', 0.5350170135498047),\n",
       " ('aggravated', 0.5285260677337646),\n",
       " ('impatient', 0.512834370136261),\n",
       " ('overstimulated', 0.5104950666427612),\n",
       " ('annoyed', 0.5102289915084839),\n",
       " ('startled', 0.5071300864219666),\n",
       " ('angered', 0.5055261850357056)]"
      ]
     },
     "execution_count": 80,
     "metadata": {},
     "output_type": "execute_result"
    }
   ],
   "source": [
    "adhd_model.wv.most_similar(\"distracted\", topn=15)"
   ]
  },
  {
   "cell_type": "code",
   "execution_count": 81,
   "id": "55f5baa9",
   "metadata": {},
   "outputs": [
    {
     "data": {
      "text/plain": [
       "[('dissociation', 0.6238409280776978),\n",
       " ('boredom', 0.6151790618896484),\n",
       " ('rumination', 0.6081263422966003),\n",
       " ('impatience', 0.6009877920150757),\n",
       " ('fatigue', 0.5999435782432556),\n",
       " ('tiredness', 0.5950149297714233),\n",
       " ('understimulation', 0.5889251232147217),\n",
       " ('exhaustion', 0.5880143046379089),\n",
       " ('unexplained', 0.579112708568573),\n",
       " ('tension', 0.575767993927002),\n",
       " ('discomfort', 0.5742940902709961),\n",
       " ('confusion', 0.5724020600318909),\n",
       " ('drowsiness', 0.5712447762489319),\n",
       " ('agitation', 0.5700607895851135),\n",
       " ('indecision', 0.5674419403076172)]"
      ]
     },
     "execution_count": 81,
     "metadata": {},
     "output_type": "execute_result"
    }
   ],
   "source": [
    "adhd_model.wv.most_similar(\"overstimulation\", topn=15)"
   ]
  },
  {
   "cell_type": "code",
   "execution_count": 82,
   "id": "b6a2c761",
   "metadata": {},
   "outputs": [
    {
     "data": {
      "text/plain": [
       "[('burn-out', 0.6064639687538147),\n",
       " ('dehydration', 0.5957694053649902),\n",
       " ('overstimulation', 0.5889251828193665),\n",
       " ('disruptions', 0.584206223487854),\n",
       " ('rumination', 0.5747585892677307),\n",
       " ('agitation', 0.5697938203811646),\n",
       " ('tinnitus', 0.566262423992157),\n",
       " ('grief', 0.5649697184562683),\n",
       " ('irritation', 0.5619874596595764),\n",
       " ('dissociation', 0.5610262751579285),\n",
       " ('distress', 0.5594928860664368),\n",
       " ('arthritis', 0.5556885600090027),\n",
       " ('drowsiness', 0.5515419840812683),\n",
       " ('tmj', 0.5513576865196228),\n",
       " ('misérables*', 0.5492135882377625)]"
      ]
     },
     "execution_count": 82,
     "metadata": {},
     "output_type": "execute_result"
    }
   ],
   "source": [
    "adhd_model.wv.most_similar(\"understimulation\", topn=15)"
   ]
  },
  {
   "cell_type": "code",
   "execution_count": 83,
   "id": "1fb33e76",
   "metadata": {},
   "outputs": [
    {
     "data": {
      "text/plain": [
       "[('insomnia', 0.6081119775772095),\n",
       " ('ptsd', 0.6028245687484741),\n",
       " ('depression/anxiety', 0.5966824293136597),\n",
       " ('gad', 0.5930671095848083),\n",
       " ('ocd', 0.5719979405403137),\n",
       " ('anxiousness', 0.5653916597366333),\n",
       " ('anxiety/panic', 0.5633661150932312),\n",
       " ('fatigue', 0.5539025664329529),\n",
       " ('depression', 0.5430821776390076),\n",
       " ('migraines', 0.5427714586257935),\n",
       " ('phobia', 0.5392332673072815),\n",
       " ('mania', 0.5351836085319519),\n",
       " ('anxiety/depression', 0.5235435366630554),\n",
       " ('panic', 0.5218998193740845),\n",
       " ('rsd', 0.5110689401626587)]"
      ]
     },
     "execution_count": 83,
     "metadata": {},
     "output_type": "execute_result"
    }
   ],
   "source": [
    "adhd_model.wv.most_similar(\"anxiety\", topn=15)"
   ]
  },
  {
   "cell_type": "code",
   "execution_count": 84,
   "id": "e8ab4e49",
   "metadata": {},
   "outputs": [
    {
     "data": {
      "text/plain": [
       "[('ptsd', 0.6753057837486267),\n",
       " ('ocd', 0.6622640490531921),\n",
       " ('depression/anxiety', 0.6395909786224365),\n",
       " ('gad', 0.6238530874252319),\n",
       " ('bpd', 0.6113967895507812),\n",
       " ('mdd', 0.6047233939170837),\n",
       " ('insomnia', 0.5990356206893921),\n",
       " ('depressive', 0.5762543082237244),\n",
       " ('narcolepsy', 0.5686822533607483),\n",
       " ('generalized', 0.5655974745750427),\n",
       " ('anxiety', 0.5430821776390076),\n",
       " ('anxiety/depression', 0.5371780395507812),\n",
       " ('bipolar', 0.5371232628822327),\n",
       " ('dysthymia', 0.5363638401031494),\n",
       " ('cptsd', 0.534454345703125)]"
      ]
     },
     "execution_count": 84,
     "metadata": {},
     "output_type": "execute_result"
    }
   ],
   "source": [
    "adhd_model.wv.most_similar(\"depression\", topn=15)"
   ]
  },
  {
   "cell_type": "code",
   "execution_count": 85,
   "id": "c1f1cee9",
   "metadata": {},
   "outputs": [
    {
     "data": {
      "text/plain": [
       "[('sleeping', 0.5822163820266724),\n",
       " ('asleep', 0.537973940372467),\n",
       " ('bed', 0.5157887935638428),\n",
       " ('exercise', 0.4770318567752838),\n",
       " ('sleepless', 0.42628923058509827),\n",
       " ('eat', 0.4252566695213318),\n",
       " ('appetite', 0.41989952325820923),\n",
       " ('wake', 0.4183107316493988),\n",
       " ('eating', 0.4168846905231476),\n",
       " ('drink', 0.41547060012817383),\n",
       " ('function', 0.4149003326892853),\n",
       " ('meditate', 0.40719714760780334),\n",
       " ('headaches', 0.40476006269454956),\n",
       " ('diet', 0.403209924697876),\n",
       " ('relax', 0.40277156233787537)]"
      ]
     },
     "execution_count": 85,
     "metadata": {},
     "output_type": "execute_result"
    }
   ],
   "source": [
    "adhd_model.wv.most_similar(\"sleep\", topn=15)"
   ]
  },
  {
   "cell_type": "code",
   "execution_count": 86,
   "id": "12c80cbc",
   "metadata": {},
   "outputs": [
    {
     "data": {
      "text/plain": [
       "[('task', 0.7064698338508606),\n",
       " ('chores', 0.6773264408111572),\n",
       " ('things', 0.6650495529174805),\n",
       " ('projects', 0.6244637370109558),\n",
       " ('activities', 0.5851579308509827),\n",
       " ('items', 0.5803000926971436),\n",
       " ('assignments', 0.5648313760757446),\n",
       " ('schoolwork', 0.5349326133728027),\n",
       " ('responsibilities', 0.4776991903781891),\n",
       " ('routines', 0.4760463535785675),\n",
       " ('worksheets', 0.47448819875717163),\n",
       " ('stuff', 0.4727061092853546),\n",
       " ('goals', 0.46987056732177734),\n",
       " ('things**', 0.4682238698005676),\n",
       " ('steps', 0.4666711390018463)]"
      ]
     },
     "execution_count": 86,
     "metadata": {},
     "output_type": "execute_result"
    }
   ],
   "source": [
    "adhd_model.wv.most_similar(\"tasks\", topn=15)"
   ]
  },
  {
   "cell_type": "code",
   "execution_count": 87,
   "id": "2aa82ad9",
   "metadata": {},
   "outputs": [
    {
     "data": {
      "text/plain": [
       "[('blurted', 0.7502467632293701),\n",
       " ('blurting', 0.717305600643158),\n",
       " ('-spacing', 0.7110857963562012),\n",
       " ('lashes', 0.7055999636650085),\n",
       " ('blurt', 0.6727300882339478),\n",
       " ('tuning', 0.6687672138214111),\n",
       " ('fizzle', 0.665898323059082),\n",
       " ('blacking', 0.6641537547111511),\n",
       " ('blacked', 0.6615590453147888),\n",
       " ('lashing', 0.6576511263847351),\n",
       " ('aired', 0.6561911106109619),\n",
       " ('maxed', 0.6533636450767517),\n",
       " ('spit', 0.6533453464508057),\n",
       " ('chickened', 0.6454461216926575),\n",
       " ('spurt', 0.6394838690757751)]"
      ]
     },
     "execution_count": 87,
     "metadata": {},
     "output_type": "execute_result"
    }
   ],
   "source": [
    "adhd_model.wv.most_similar(\"blurts\", topn=15)"
   ]
  },
  {
   "cell_type": "code",
   "execution_count": 88,
   "id": "4e87039f",
   "metadata": {},
   "outputs": [
    {
     "data": {
      "text/plain": [
       "[('“careless”', 0.6042772531509399),\n",
       " ('sloppy', 0.5900443196296692),\n",
       " ('forgetful', 0.5794960856437683),\n",
       " ('clumsy', 0.5588237047195435),\n",
       " ('errors', 0.5586423873901367),\n",
       " ('mistakes', 0.557075023651123),\n",
       " ('dumb', 0.5409373044967651),\n",
       " ('irresponsible', 0.5286861062049866),\n",
       " ('silly', 0.5278342366218567),\n",
       " ('stupid', 0.5268055200576782),\n",
       " ('grammatical', 0.5169370174407959),\n",
       " ('mistakes/lacks', 0.5039103627204895),\n",
       " ('spacey', 0.49755796790122986),\n",
       " ('silliest', 0.49596911668777466),\n",
       " ('disorganized', 0.4902001619338989)]"
      ]
     },
     "execution_count": 88,
     "metadata": {},
     "output_type": "execute_result"
    }
   ],
   "source": [
    "adhd_model.wv.most_similar(\"careless\", topn=15)"
   ]
  },
  {
   "cell_type": "code",
   "execution_count": 89,
   "id": "f1a224d4",
   "metadata": {},
   "outputs": [
    {
     "data": {
      "text/plain": [
       "[('sidetracked', 0.6984801292419434),\n",
       " ('bored', 0.6892499327659607),\n",
       " ('irritated', 0.6187742948532104),\n",
       " ('bored/distracted', 0.6156244874000549),\n",
       " ('overwhelmed', 0.6077423691749573),\n",
       " ('agitated', 0.5751602053642273),\n",
       " ('derailed', 0.548134446144104),\n",
       " ('frustrated', 0.5477302074432373),\n",
       " ('antsy', 0.5350170135498047),\n",
       " ('aggravated', 0.5285260677337646),\n",
       " ('impatient', 0.512834370136261),\n",
       " ('overstimulated', 0.5104950666427612),\n",
       " ('annoyed', 0.5102289915084839),\n",
       " ('startled', 0.5071300864219666),\n",
       " ('angered', 0.5055261850357056)]"
      ]
     },
     "execution_count": 89,
     "metadata": {},
     "output_type": "execute_result"
    }
   ],
   "source": [
    "adhd_model.wv.most_similar(\"distracted\", topn=15)"
   ]
  },
  {
   "cell_type": "code",
   "execution_count": 90,
   "id": "f6f8c3e6",
   "metadata": {},
   "outputs": [
    {
     "data": {
      "text/plain": [
       "[('stim', 0.6484668254852295),\n",
       " ('fidgeting', 0.5641934871673584),\n",
       " ('fiddle', 0.5423783659934998),\n",
       " ('fidgets', 0.5331591367721558),\n",
       " ('daydream', 0.530850887298584),\n",
       " ('fiddling', 0.5207068920135498),\n",
       " ('tap', 0.5135927200317383),\n",
       " ('doodle', 0.5035949349403381),\n",
       " ('whistle', 0.49502500891685486),\n",
       " ('tapping', 0.4946359097957611),\n",
       " ('pens', 0.4945749342441559),\n",
       " ('rubix', 0.49444466829299927),\n",
       " ('rubik’s', 0.4745483100414276),\n",
       " ('pen', 0.46283578872680664),\n",
       " ('legs', 0.46209532022476196)]"
      ]
     },
     "execution_count": 90,
     "metadata": {},
     "output_type": "execute_result"
    }
   ],
   "source": [
    "adhd_model.wv.most_similar(\"fidget\", topn=15)"
   ]
  },
  {
   "cell_type": "code",
   "execution_count": 91,
   "id": "a226f711",
   "metadata": {},
   "outputs": [
    {
     "data": {
      "text/plain": [
       "[('disorganised', 0.7627739310264587),\n",
       " ('disorganized', 0.7618280053138733),\n",
       " ('clumsy', 0.7485203146934509),\n",
       " ('spacey', 0.7073506116867065),\n",
       " ('scatterbrained', 0.7070428133010864),\n",
       " ('unorganized', 0.698992908000946),\n",
       " ('unorganised', 0.6882550120353699),\n",
       " ('absent-minded', 0.6710038185119629),\n",
       " ('unfocused', 0.6527332663536072),\n",
       " ('irresponsible', 0.6281096339225769),\n",
       " ('fidgety', 0.6246336698532104),\n",
       " ('talkative', 0.6128419041633606),\n",
       " ('argumentative', 0.608806848526001),\n",
       " ('impulsive', 0.6036108136177063),\n",
       " ('moody', 0.592080295085907)]"
      ]
     },
     "execution_count": 91,
     "metadata": {},
     "output_type": "execute_result"
    }
   ],
   "source": [
    "adhd_model.wv.most_similar(\"forgetful\", topn=15)"
   ]
  },
  {
   "cell_type": "code",
   "execution_count": 92,
   "id": "2d5c4a76",
   "metadata": {},
   "outputs": [
    {
     "data": {
      "text/plain": [
       "[('directions', 0.7349821925163269),\n",
       " ('instruction', 0.5683904886245728),\n",
       " ('verbal', 0.49578818678855896),\n",
       " ('instructions”**', 0.4955167770385742),\n",
       " ('numbers', 0.4606901705265045),\n",
       " ('recipes', 0.45985323190689087),\n",
       " ('instructions*', 0.44155654311180115),\n",
       " ('orders', 0.4275442659854889),\n",
       " ('sentences', 0.4273284077644348),\n",
       " ('details', 0.4231005311012268),\n",
       " ('protocol', 0.41872793436050415),\n",
       " ('carefully', 0.41827085614204407),\n",
       " ('rules', 0.41671115159988403),\n",
       " ('texts', 0.41591373085975647),\n",
       " ('tasks', 0.4153897166252136)]"
      ]
     },
     "execution_count": 92,
     "metadata": {},
     "output_type": "execute_result"
    }
   ],
   "source": [
    "adhd_model.wv.most_similar(\"instructions\", topn=15)"
   ]
  },
  {
   "cell_type": "code",
   "execution_count": 93,
   "id": "1f779d85",
   "metadata": {},
   "outputs": [
    {
     "data": {
      "text/plain": [
       "[('intrudes', 0.7125340104103088),\n",
       " ('interrupt', 0.6045215725898743),\n",
       " ('speaks', 0.6014426946640015),\n",
       " ('avoids', 0.5826585292816162),\n",
       " ('interrupting', 0.5731493234634399),\n",
       " ('looses', 0.5521567463874817),\n",
       " ('ignores', 0.5521173477172852),\n",
       " ('hears', 0.5465902090072632),\n",
       " ('tells', 0.5388582348823547),\n",
       " ('talks', 0.5344032645225525),\n",
       " ('fidgets', 0.5326068997383118),\n",
       " ('watches', 0.5277583003044128),\n",
       " ('distracts', 0.5258309841156006),\n",
       " ('compares', 0.5161986351013184),\n",
       " ('asks', 0.5160029530525208)]"
      ]
     },
     "execution_count": 93,
     "metadata": {},
     "output_type": "execute_result"
    }
   ],
   "source": [
    "adhd_model.wv.most_similar(\"interrupts\", topn=15)"
   ]
  },
  {
   "cell_type": "code",
   "execution_count": 94,
   "id": "0d9805b7",
   "metadata": {},
   "outputs": [
    {
     "data": {
      "text/plain": [
       "[('listening', 0.6309062242507935),\n",
       " ('listened', 0.6072753071784973),\n",
       " ('hear', 0.5604420900344849),\n",
       " ('respond', 0.5445165038108826),\n",
       " ('connect', 0.5430163741111755),\n",
       " ('interrupt', 0.5172647833824158),\n",
       " ('speak', 0.513073742389679),\n",
       " ('talk', 0.5067105889320374),\n",
       " ('ignore', 0.5038173198699951),\n",
       " ('concentrate', 0.5020611882209778),\n",
       " ('sing', 0.5016178488731384),\n",
       " ('engage', 0.4970810115337372),\n",
       " ('retain', 0.482991099357605),\n",
       " ('comprehend', 0.47226476669311523),\n",
       " ('understand', 0.4700518250465393)]"
      ]
     },
     "execution_count": 94,
     "metadata": {},
     "output_type": "execute_result"
    }
   ],
   "source": [
    "adhd_model.wv.most_similar(\"listen\", topn=15)"
   ]
  },
  {
   "cell_type": "code",
   "execution_count": 95,
   "id": "c58fddeb",
   "metadata": {},
   "outputs": [
    {
     "data": {
      "text/plain": [
       "[('misplacing', 0.72845858335495),\n",
       " ('misplace', 0.68247389793396),\n",
       " ('looses', 0.6740795969963074),\n",
       " ('forgets', 0.6724807620048523),\n",
       " ('aaid', 0.6218665242195129),\n",
       " ('loses', 0.6211382746696472),\n",
       " ('misplacing/losing', 0.6071367859840393),\n",
       " ('losing/forgetting', 0.5791614055633545),\n",
       " ('***loses', 0.5569247007369995),\n",
       " ('organises', 0.5467885136604309),\n",
       " ('hoard', 0.5422442555427551),\n",
       " ('forget/lose', 0.5261827111244202),\n",
       " ('overreact', 0.5240338444709778),\n",
       " ('**clicked**', 0.519274115562439),\n",
       " ('complains', 0.5121062994003296)]"
      ]
     },
     "execution_count": 95,
     "metadata": {},
     "output_type": "execute_result"
    }
   ],
   "source": [
    "adhd_model.wv.most_similar(\"misplaces\", topn=15)"
   ]
  },
  {
   "cell_type": "code",
   "execution_count": 96,
   "id": "5fc07448",
   "metadata": {},
   "outputs": [
    {
     "data": {
      "text/plain": [
       "[('jumps', 0.5691097974777222),\n",
       " ('bounces', 0.5261719822883606),\n",
       " ('goes', 0.48491916060447693),\n",
       " ('leaves', 0.46128982305526733),\n",
       " ('carries', 0.45502084493637085),\n",
       " ('starts', 0.4479454755783081),\n",
       " ('switches', 0.4445071518421173),\n",
       " ('pulls', 0.44132769107818604),\n",
       " ('enters', 0.43851253390312195),\n",
       " ('move', 0.4318757653236389),\n",
       " ('drifts', 0.4316878318786621),\n",
       " ('moving', 0.4308895170688629),\n",
       " ('speaks', 0.43052104115486145),\n",
       " ('latches', 0.42929506301879883),\n",
       " ('“foggy”', 0.4280104637145996)]"
      ]
     },
     "execution_count": 96,
     "metadata": {},
     "output_type": "execute_result"
    }
   ],
   "source": [
    "adhd_model.wv.most_similar(\"moves\", topn=15)"
   ]
  },
  {
   "cell_type": "code",
   "execution_count": 97,
   "id": "1e113a0a",
   "metadata": {},
   "outputs": [
    {
     "data": {
      "text/plain": [
       "[('jittery', 0.7138804793357849),\n",
       " ('fidgety', 0.6894580721855164),\n",
       " ('agitated', 0.6757946610450745),\n",
       " ('fatigued', 0.6734806895256042),\n",
       " ('lethargic', 0.6696224212646484),\n",
       " ('irritable', 0.645696759223938),\n",
       " ('antsy', 0.6269670724868774),\n",
       " ('sleepy', 0.623403012752533),\n",
       " ('dizzy', 0.62251216173172),\n",
       " ('tense', 0.6199596524238586),\n",
       " ('anxious', 0.6144980788230896),\n",
       " ('foggy', 0.600687563419342),\n",
       " ('nauseous', 0.5971139669418335),\n",
       " ('sluggish', 0.5931520462036133),\n",
       " ('moody', 0.5616255402565002)]"
      ]
     },
     "execution_count": 97,
     "metadata": {},
     "output_type": "execute_result"
    }
   ],
   "source": [
    "adhd_model.wv.most_similar(\"restless\", topn=15)"
   ]
  },
  {
   "cell_type": "code",
   "execution_count": 98,
   "id": "346af990",
   "metadata": {},
   "outputs": [
    {
     "data": {
      "text/plain": [
       "[('organise', 0.8177522420883179),\n",
       " ('prioritize', 0.6396051645278931),\n",
       " ('execute', 0.5879781246185303),\n",
       " ('gather', 0.572615921497345),\n",
       " ('retrieve', 0.5601252317428589),\n",
       " ('memorize', 0.5534650087356567),\n",
       " ('implement', 0.5531120300292969),\n",
       " ('tackle', 0.5529537796974182),\n",
       " ('manage', 0.550489068031311),\n",
       " ('collect', 0.5456726551055908),\n",
       " ('visualize', 0.5372793078422546),\n",
       " ('arrange', 0.5336962342262268),\n",
       " ('articulate', 0.5332508087158203),\n",
       " ('utilize', 0.5240079164505005),\n",
       " ('commit', 0.5232197642326355)]"
      ]
     },
     "execution_count": 98,
     "metadata": {},
     "output_type": "execute_result"
    }
   ],
   "source": [
    "adhd_model.wv.most_similar(\"organize\", topn=15)"
   ]
  },
  {
   "cell_type": "code",
   "execution_count": 99,
   "id": "2c6a51c7",
   "metadata": {},
   "outputs": [
    {
     "data": {
      "text/plain": [
       "[('productivity', 0.5897951722145081),\n",
       " ('attentiveness', 0.5828397274017334),\n",
       " ('retention', 0.5812674760818481),\n",
       " ('organisation', 0.577720582485199),\n",
       " ('motivation', 0.5686666369438171),\n",
       " ('self-confidence', 0.5524927973747253),\n",
       " ('follow-through', 0.5472126007080078),\n",
       " ('organization', 0.5367908477783203),\n",
       " ('impulsivity', 0.5333048701286316),\n",
       " ('memory', 0.5320252180099487),\n",
       " ('focus', 0.5309539437294006),\n",
       " ('impulsiveness', 0.5192360281944275),\n",
       " ('self-control', 0.5099266171455383),\n",
       " ('appetite', 0.5020779371261597),\n",
       " ('libido', 0.5010485053062439)]"
      ]
     },
     "execution_count": 99,
     "metadata": {},
     "output_type": "execute_result"
    }
   ],
   "source": [
    "adhd_model.wv.most_similar(\"concentration\", topn=15)"
   ]
  },
  {
   "cell_type": "code",
   "execution_count": 100,
   "id": "9153dd97",
   "metadata": {},
   "outputs": [
    {
     "data": {
      "text/plain": [
       "[('silent', 0.6159137487411499),\n",
       " ('talkative', 0.5776931643486023),\n",
       " ('shy', 0.5582040548324585),\n",
       " ('introverted', 0.5527591109275818),\n",
       " ('polite', 0.5510299801826477),\n",
       " ('reserved', 0.5425533652305603),\n",
       " ('attentive', 0.5326888561248779),\n",
       " ('calm', 0.5306251645088196),\n",
       " ('noisy', 0.5257624387741089),\n",
       " ('relaxed', 0.5058287382125854),\n",
       " ('fidgety', 0.5013799667358398),\n",
       " ('busy', 0.4956093430519104),\n",
       " ('disruptive', 0.49334895610809326),\n",
       " ('active', 0.49274972081184387),\n",
       " ('outgoing', 0.48506227135658264)]"
      ]
     },
     "execution_count": 100,
     "metadata": {},
     "output_type": "execute_result"
    }
   ],
   "source": [
    "adhd_model.wv.most_similar(\"quiet\", topn=15)"
   ]
  },
  {
   "cell_type": "code",
   "execution_count": 101,
   "id": "f5459bec",
   "metadata": {},
   "outputs": [
    {
     "data": {
      "text/plain": [
       "[('remaining', 0.5390201210975647),\n",
       " ('seat', 0.47399428486824036),\n",
       " ('sane', 0.4624331593513489),\n",
       " ('engaged', 0.45221009850502014),\n",
       " ('awake', 0.444064199924469),\n",
       " ('unwinding', 0.42575544118881226),\n",
       " ('hydrated', 0.41824039816856384),\n",
       " ('concentrated', 0.412509024143219),\n",
       " ('passenger', 0.40965646505355835),\n",
       " ('quiet', 0.40387728810310364),\n",
       " ('alert', 0.38515833020210266),\n",
       " ('afloat', 0.37947407364845276),\n",
       " ('expected*', 0.37441834807395935),\n",
       " ('indoors', 0.37200212478637695),\n",
       " ('stimulated', 0.3626222312450409)]"
      ]
     },
     "execution_count": 101,
     "metadata": {},
     "output_type": "execute_result"
    }
   ],
   "source": [
    "adhd_model.wv.most_similar(\"seated\", topn=15)"
   ]
  },
  {
   "cell_type": "code",
   "execution_count": 102,
   "id": "332d1272",
   "metadata": {},
   "outputs": [
    {
     "data": {
      "text/plain": [
       "[('complains', 0.7013084292411804),\n",
       " ('speaks', 0.6362513303756714),\n",
       " ('joked', 0.6163971424102783),\n",
       " ('complained', 0.6011800169944763),\n",
       " ('spoke', 0.5905921459197998),\n",
       " ('talk', 0.5868416428565979),\n",
       " ('talked', 0.5865479707717896),\n",
       " ('listens', 0.5811729431152344),\n",
       " ('cares', 0.5776601433753967),\n",
       " ('sees', 0.5538138747215271),\n",
       " ('notices', 0.5536605715751648),\n",
       " ('forgets', 0.5532332062721252),\n",
       " ('enjoys', 0.5524865388870239),\n",
       " ('cries', 0.5524336695671082),\n",
       " ('talking', 0.5461887121200562)]"
      ]
     },
     "execution_count": 102,
     "metadata": {},
     "output_type": "execute_result"
    }
   ],
   "source": [
    "adhd_model.wv.most_similar(\"talks\", topn=15)"
   ]
  },
  {
   "cell_type": "code",
   "execution_count": 103,
   "id": "a3d03ea2",
   "metadata": {},
   "outputs": [
    {
     "data": {
      "text/plain": [
       "[('wait', 0.5577406883239746),\n",
       " ('awaiting', 0.5198859572410583),\n",
       " ('searching', 0.46206167340278625),\n",
       " ('waited', 0.43635067343711853),\n",
       " ('fishing', 0.4176577627658844),\n",
       " ('compiling', 0.4144503176212311),\n",
       " ('preparing', 0.4030948281288147),\n",
       " ('waitlist', 0.3866419494152069),\n",
       " ('queue', 0.3772072494029999),\n",
       " ('£300', 0.3707655072212219),\n",
       " ('scheduled', 0.3698205053806305),\n",
       " ('22nd', 0.357849657535553),\n",
       " ('riding', 0.3483898341655731),\n",
       " ('lurking', 0.3471589982509613),\n",
       " ('going', 0.34461697936058044)]"
      ]
     },
     "execution_count": 103,
     "metadata": {},
     "output_type": "execute_result"
    }
   ],
   "source": [
    "adhd_model.wv.most_similar(\"waiting\", topn=15)"
   ]
  },
  {
   "cell_type": "code",
   "execution_count": null,
   "id": "e3c670cb",
   "metadata": {},
   "outputs": [],
   "source": [
    "adhd_model.wv.most_similar(\"waiting\", topn=15)"
   ]
  },
  {
   "cell_type": "code",
   "execution_count": 104,
   "id": "0cc0b7af",
   "metadata": {},
   "outputs": [
    {
     "data": {
      "text/plain": [
       "[('organise', 0.8177522420883179),\n",
       " ('prioritize', 0.6396051645278931),\n",
       " ('execute', 0.5879781246185303),\n",
       " ('gather', 0.572615921497345),\n",
       " ('retrieve', 0.5601252317428589),\n",
       " ('memorize', 0.5534650087356567),\n",
       " ('implement', 0.5531120300292969),\n",
       " ('tackle', 0.5529537796974182),\n",
       " ('manage', 0.550489068031311),\n",
       " ('collect', 0.5456726551055908),\n",
       " ('visualize', 0.5372793078422546),\n",
       " ('arrange', 0.5336962342262268),\n",
       " ('articulate', 0.5332508087158203),\n",
       " ('utilize', 0.5240079164505005),\n",
       " ('commit', 0.5232197642326355),\n",
       " ('motivate', 0.5192403197288513),\n",
       " ('create', 0.5161908268928528),\n",
       " ('accomplish', 0.515205442905426),\n",
       " ('simplify', 0.5114571452140808),\n",
       " ('organizing', 0.5077037811279297)]"
      ]
     },
     "execution_count": 104,
     "metadata": {},
     "output_type": "execute_result"
    }
   ],
   "source": [
    "adhd_model.wv.most_similar(\"organize\", topn=20)"
   ]
  },
  {
   "cell_type": "code",
   "execution_count": 119,
   "id": "2f9ff6f2",
   "metadata": {},
   "outputs": [
    {
     "data": {
      "text/plain": [
       "[('organize', 0.6396051645278931),\n",
       " ('execute', 0.634045422077179),\n",
       " ('accomplish', 0.6207945346832275),\n",
       " ('tackle', 0.6202678084373474),\n",
       " ('organise', 0.5969576239585876),\n",
       " ('perform', 0.577804684638977),\n",
       " ('multitask', 0.5767335295677185),\n",
       " ('commit', 0.5645694136619568),\n",
       " ('initiate', 0.5412926077842712),\n",
       " ('concentrate', 0.5382057428359985),\n",
       " ('visualize', 0.5352488160133362),\n",
       " ('prioritizing', 0.5348851680755615),\n",
       " ('prioritise', 0.5323051810264587),\n",
       " ('regulate', 0.5275587439537048),\n",
       " ('achieve', 0.5253454446792603),\n",
       " ('memorize', 0.5237484574317932),\n",
       " ('juggle', 0.5216630101203918),\n",
       " ('implement', 0.5195894837379456),\n",
       " ('delegate', 0.5174523591995239),\n",
       " ('complete', 0.509374737739563)]"
      ]
     },
     "execution_count": 119,
     "metadata": {},
     "output_type": "execute_result"
    }
   ],
   "source": [
    "adhd_model.wv.most_similar(\"prioritize\", topn=20)"
   ]
  },
  {
   "cell_type": "code",
   "execution_count": 106,
   "id": "7870233b",
   "metadata": {},
   "outputs": [
    {
     "data": {
      "text/plain": [
       "[('concentrate', 0.8481261730194092),\n",
       " ('focused', 0.6091128587722778),\n",
       " ('hyper-focus', 0.6025528907775879),\n",
       " ('multitask', 0.5992745757102966),\n",
       " ('focusing', 0.5961366891860962),\n",
       " ('grasp', 0.5429612398147583),\n",
       " ('fixate', 0.5339042544364929),\n",
       " ('concentration', 0.5309540629386902),\n",
       " ('hyperfocus', 0.5192564129829407),\n",
       " ('perform', 0.4820605218410492),\n",
       " ('fixating', 0.481469064950943),\n",
       " ('prioritize', 0.48124343156814575),\n",
       " ('handle', 0.47508662939071655),\n",
       " ('relax', 0.4741531014442444),\n",
       " ('focussing', 0.4717353284358978),\n",
       " ('concentrating', 0.462649405002594),\n",
       " ('rely', 0.4593639373779297),\n",
       " ('comprehend', 0.4556039869785309),\n",
       " ('sustain', 0.4512845575809479),\n",
       " ('hyperfixate', 0.44925710558891296)]"
      ]
     },
     "execution_count": 106,
     "metadata": {},
     "output_type": "execute_result"
    }
   ],
   "source": [
    "adhd_model.wv.most_similar(\"focus\", topn=20)"
   ]
  },
  {
   "cell_type": "code",
   "execution_count": 107,
   "id": "5d348f40",
   "metadata": {},
   "outputs": [
    {
     "data": {
      "text/plain": [
       "[('prioritize', 0.5412926077842712),\n",
       " ('execute', 0.5237286686897278),\n",
       " ('initiating', 0.5086759924888611),\n",
       " ('executing', 0.4979875981807709),\n",
       " ('engage', 0.4696354866027832),\n",
       " ('maintain', 0.46862679719924927),\n",
       " ('contribute', 0.4610580503940582),\n",
       " ('anticipate', 0.4579991400241852),\n",
       " ('tackle', 0.45350775122642517),\n",
       " ('avoid', 0.4466940760612488),\n",
       " ('postpone', 0.4412894546985626),\n",
       " ('requiring', 0.4404865801334381),\n",
       " ('implement', 0.438987135887146),\n",
       " ('assign', 0.4372934401035309),\n",
       " ('commit', 0.43635544180870056),\n",
       " ('organising', 0.4350680708885193),\n",
       " ('involve', 0.4341478645801544),\n",
       " ('delegate', 0.4319782257080078),\n",
       " ('ignore', 0.43055030703544617),\n",
       " ('juggle', 0.4277782142162323)]"
      ]
     },
     "execution_count": 107,
     "metadata": {},
     "output_type": "execute_result"
    }
   ],
   "source": [
    "adhd_model.wv.most_similar(\"initiate\", topn=20)"
   ]
  },
  {
   "cell_type": "code",
   "execution_count": 109,
   "id": "a89ceb0a",
   "metadata": {},
   "outputs": [
    {
     "data": {
      "text/plain": [
       "[('prioritization', 0.6340122818946838),\n",
       " ('prioritizing', 0.6057565808296204),\n",
       " ('prioritisation', 0.6024304032325745),\n",
       " ('organisation', 0.5664590001106262),\n",
       " ('punctuality', 0.5568532347679138),\n",
       " ('concentration', 0.547212541103363),\n",
       " ('organization', 0.5437710881233215),\n",
       " ('avoids/dislikes', 0.5376207828521729),\n",
       " ('short-term', 0.5371763110160828),\n",
       " ('initiation', 0.5340088605880737),\n",
       " ('prioritising', 0.5322688817977905),\n",
       " ('coordination', 0.5313054323196411),\n",
       " ('disorganisation', 0.530411422252655),\n",
       " ('articulation', 0.5224964618682861),\n",
       " ('dependability', 0.512200117111206),\n",
       " ('procrastination', 0.5075905323028564),\n",
       " ('disorganization', 0.5075584650039673),\n",
       " ('self-discipline', 0.5022214651107788),\n",
       " ('sticky-notes', 0.49965935945510864),\n",
       " ('persistence', 0.49525710940361023)]"
      ]
     },
     "execution_count": 109,
     "metadata": {},
     "output_type": "execute_result"
    }
   ],
   "source": [
    "adhd_model.wv.most_similar(\"follow-through\", topn=20)"
   ]
  },
  {
   "cell_type": "code",
   "execution_count": 121,
   "id": "6c76492f",
   "metadata": {},
   "outputs": [
    {
     "data": {
      "text/plain": [
       "[('recall', 0.7709953188896179),\n",
       " ('comprehend', 0.5800585150718689),\n",
       " ('fathom', 0.5454567670822144),\n",
       " ('imagine', 0.5428937673568726),\n",
       " ('memorize', 0.49510109424591064),\n",
       " ('pinpoint', 0.4947699308395386),\n",
       " ('forget', 0.4742870628833771),\n",
       " ('remeber', 0.4687615633010864),\n",
       " ('retain', 0.4676784873008728),\n",
       " ('concentrate', 0.462189644575119),\n",
       " ('remembered', 0.4572097957134247),\n",
       " ('multitask', 0.4543330669403076),\n",
       " ('understand', 0.4529891908168793),\n",
       " ('summarize', 0.4504868686199188),\n",
       " ('absorb', 0.4489503800868988),\n",
       " ('predict', 0.44815006852149963),\n",
       " ('accomplish', 0.4414917528629303),\n",
       " ('register', 0.4393739700317383),\n",
       " ('describe', 0.4330478012561798),\n",
       " ('locate', 0.43122756481170654)]"
      ]
     },
     "execution_count": 121,
     "metadata": {},
     "output_type": "execute_result"
    }
   ],
   "source": [
    "adhd_model.wv.most_similar(\"remember\", topn=20)"
   ]
  },
  {
   "cell_type": "code",
   "execution_count": 112,
   "id": "0228e236",
   "metadata": {},
   "outputs": [
    {
     "data": {
      "text/plain": [
       "[('forgot', 0.6664561629295349),\n",
       " ('forgetting', 0.6448471546173096),\n",
       " ('miss', 0.6135790944099426),\n",
       " ('misplace', 0.5845202207565308),\n",
       " ('forgotten', 0.5579928159713745),\n",
       " ('lose', 0.5197671055793762),\n",
       " ('forgets', 0.5192765593528748),\n",
       " ('remembered', 0.5059275031089783),\n",
       " ('procrastinate', 0.49983686208724976),\n",
       " ('overthink', 0.4931754171848297),\n",
       " ('remember', 0.4742870330810547),\n",
       " ('remembering', 0.4496007263660431),\n",
       " ('misplacing', 0.4304111897945404),\n",
       " ('ignore', 0.4261144697666168),\n",
       " ('loose', 0.41650789976119995),\n",
       " ('misread', 0.4155377447605133),\n",
       " ('leave', 0.407657265663147),\n",
       " ('reread', 0.4022226333618164),\n",
       " ('misplaced', 0.40076491236686707),\n",
       " ('daydream', 0.3936951160430908)]"
      ]
     },
     "execution_count": 112,
     "metadata": {},
     "output_type": "execute_result"
    }
   ],
   "source": [
    "adhd_model.wv.most_similar(\"forget\", topn=20)"
   ]
  },
  {
   "cell_type": "code",
   "execution_count": 113,
   "id": "8046566b",
   "metadata": {},
   "outputs": [
    {
     "data": {
      "text/plain": [
       "[('anger', 0.6036617159843445),\n",
       " ('emotion', 0.5815500617027283),\n",
       " ('intense', 0.5339415669441223),\n",
       " ('aggression', 0.5328584909439087),\n",
       " ('emotions', 0.5317428112030029),\n",
       " ('extreme', 0.5274925827980042),\n",
       " ('irritability', 0.5271798372268677),\n",
       " ('insecurity', 0.5182892680168152),\n",
       " ('frustration', 0.5152567028999329),\n",
       " ('rejection', 0.5093329548835754),\n",
       " ('impulsiveness', 0.5083732008934021),\n",
       " ('explosive', 0.5076797604560852),\n",
       " ('impatience', 0.5038495063781738),\n",
       " ('impulsivity', 0.500531017780304),\n",
       " ('violent', 0.500497579574585),\n",
       " ('empathy', 0.48734813928604126),\n",
       " ('uncontrollable', 0.4865398406982422),\n",
       " ('internal', 0.4751785099506378),\n",
       " ('sensory', 0.4704394042491913),\n",
       " ('restlessness', 0.4690715968608856)]"
      ]
     },
     "execution_count": 113,
     "metadata": {},
     "output_type": "execute_result"
    }
   ],
   "source": [
    "adhd_model.wv.most_similar(\"emotional\", topn=20)"
   ]
  },
  {
   "cell_type": "code",
   "execution_count": 122,
   "id": "1159cd62",
   "metadata": {},
   "outputs": [
    {
     "data": {
      "text/plain": [
       "[('moods', 0.6146122813224792),\n",
       " ('irritability', 0.5238090753555298),\n",
       " ('appetite', 0.4935661256313324),\n",
       " ('insomnia', 0.4660658538341522),\n",
       " ('nausea', 0.4586219787597656),\n",
       " ('headaches', 0.45429497957229614),\n",
       " ('self-esteem', 0.45314645767211914),\n",
       " ('concentration', 0.44794073700904846),\n",
       " ('diet', 0.4434126615524292),\n",
       " ('migraines', 0.44115638732910156),\n",
       " ('fatigue', 0.4401665925979614),\n",
       " ('stomach', 0.43692874908447266),\n",
       " ('paranoia', 0.43351972103118896),\n",
       " ('libido', 0.42743536829948425),\n",
       " ('listener', 0.423074871301651),\n",
       " ('rhythm', 0.42078807950019836),\n",
       " ('lows', 0.4190419912338257),\n",
       " ('attentiveness', 0.4188489317893982),\n",
       " ('headache', 0.41810470819473267),\n",
       " ('tiredness', 0.4178123474121094)]"
      ]
     },
     "execution_count": 122,
     "metadata": {},
     "output_type": "execute_result"
    }
   ],
   "source": [
    "adhd_model.wv.most_similar(\"mood\", topn=20)"
   ]
  },
  {
   "cell_type": "code",
   "execution_count": 115,
   "id": "23f34e6e",
   "metadata": {},
   "outputs": [
    {
     "data": {
      "text/plain": [
       "[('agitated', 0.787293553352356),\n",
       " ('jittery', 0.7852428555488586),\n",
       " ('lethargic', 0.7586954236030579),\n",
       " ('flustered', 0.7448184490203857),\n",
       " ('moody', 0.7401297688484192),\n",
       " ('anxious', 0.7252708673477173),\n",
       " ('sleepy', 0.7244883179664612),\n",
       " ('nauseous', 0.7173300385475159),\n",
       " ('irritated', 0.7143795490264893),\n",
       " ('angry', 0.6804870367050171),\n",
       " ('overstimulated', 0.678596556186676),\n",
       " ('dizzy', 0.6768774390220642),\n",
       " ('antsy', 0.6655011177062988),\n",
       " ('grumpy', 0.6620075106620789),\n",
       " ('impatient', 0.6607453227043152),\n",
       " ('fidgety', 0.6564841866493225),\n",
       " ('defensive', 0.6544305086135864),\n",
       " ('depressed', 0.6536476612091064),\n",
       " ('fatigued', 0.64913409948349),\n",
       " ('restless', 0.6456966996192932)]"
      ]
     },
     "execution_count": 115,
     "metadata": {},
     "output_type": "execute_result"
    }
   ],
   "source": [
    "adhd_model.wv.most_similar(\"irritable\", topn=20)"
   ]
  },
  {
   "cell_type": "code",
   "execution_count": 118,
   "id": "1f969840",
   "metadata": {},
   "outputs": [
    {
     "data": {
      "text/plain": [
       "[('daydreaming', 0.6468665599822998),\n",
       " ('zone', 0.6026422381401062),\n",
       " ('doodle', 0.6003548502922058),\n",
       " ('daydreamed', 0.5714013576507568),\n",
       " ('procrastinate', 0.551242470741272),\n",
       " ('fidget', 0.530850887298584),\n",
       " ('stutter', 0.5236532092094421),\n",
       " ('overthink', 0.4938117563724518),\n",
       " ('tap', 0.4937859773635864),\n",
       " ('ramble', 0.48540639877319336),\n",
       " ('fidgeting', 0.4802742600440979),\n",
       " ('interrupt', 0.4799862802028656),\n",
       " ('procastinate', 0.47386401891708374),\n",
       " ('doodling', 0.4692108929157257),\n",
       " ('drift', 0.46743130683898926),\n",
       " ('stim', 0.465459406375885),\n",
       " ('overshare', 0.4645114839076996),\n",
       " ('zoning', 0.4634295701980591),\n",
       " ('fidgety', 0.45977863669395447),\n",
       " ('wander', 0.45605629682540894)]"
      ]
     },
     "execution_count": 118,
     "metadata": {},
     "output_type": "execute_result"
    }
   ],
   "source": [
    "adhd_model.wv.most_similar(\"daydream\", topn=20)"
   ]
  },
  {
   "cell_type": "code",
   "execution_count": 125,
   "id": "e48ce32e",
   "metadata": {},
   "outputs": [
    {
     "data": {
      "text/plain": [
       "[('sustain', 0.6455444693565369),\n",
       " ('reduce', 0.626389741897583),\n",
       " ('express', 0.6256769895553589),\n",
       " ('suppress', 0.5975077748298645),\n",
       " ('inhibit', 0.5852774977684021),\n",
       " ('contain', 0.5721020102500916),\n",
       " ('acquire', 0.571570098400116),\n",
       " ('mitigate', 0.5679916739463806),\n",
       " ('strengthen', 0.5678445100784302),\n",
       " ('tame', 0.5632448196411133),\n",
       " ('minimize', 0.5629931688308716),\n",
       " ('alleviate', 0.5612228512763977),\n",
       " ('satisfy', 0.5578768849372864),\n",
       " ('articulate', 0.5574641823768616),\n",
       " ('improve', 0.5559655427932739),\n",
       " ('overcome', 0.5559239983558655),\n",
       " ('redirect', 0.5545377135276794),\n",
       " ('soothe', 0.5531738996505737),\n",
       " ('organise', 0.5513549447059631),\n",
       " ('maintain', 0.5494052767753601)]"
      ]
     },
     "execution_count": 125,
     "metadata": {},
     "output_type": "execute_result"
    }
   ],
   "source": [
    "adhd_model.wv.most_similar(\"regulate\", topn=20)"
   ]
  },
  {
   "cell_type": "code",
   "execution_count": 127,
   "id": "e4d06b44",
   "metadata": {},
   "outputs": [
    {
     "data": {
      "text/plain": [
       "[('cope', 0.5642402768135071),\n",
       " ('organize', 0.5504890084266663),\n",
       " ('organise', 0.5380420088768005),\n",
       " ('navigate', 0.5341765284538269),\n",
       " ('adapt', 0.5329495668411255),\n",
       " ('overcome', 0.530820906162262),\n",
       " ('handle', 0.5278725624084473),\n",
       " ('improve', 0.5140276551246643),\n",
       " ('survive', 0.5016991496086121),\n",
       " ('regulate', 0.5002877712249756),\n",
       " ('prioritize', 0.4985707104206085),\n",
       " ('tackle', 0.49598684906959534),\n",
       " ('implement', 0.4886930286884308),\n",
       " ('combat', 0.48388373851776123),\n",
       " ('perform', 0.4761952757835388),\n",
       " ('motivate', 0.4742758274078369),\n",
       " ('utilize', 0.4721716344356537),\n",
       " ('maintain', 0.4676174819469452),\n",
       " ('managing', 0.46663764119148254),\n",
       " ('function', 0.4597117304801941)]"
      ]
     },
     "execution_count": 127,
     "metadata": {},
     "output_type": "execute_result"
    }
   ],
   "source": [
    "adhd_model.wv.most_similar(\"manage\", topn=20)"
   ]
  },
  {
   "cell_type": "code",
   "execution_count": 128,
   "id": "235460ac",
   "metadata": {},
   "outputs": [
    {
     "data": {
      "text/plain": [
       "[('sustain', 0.6455444693565369),\n",
       " ('reduce', 0.626389741897583),\n",
       " ('express', 0.6256769895553589),\n",
       " ('suppress', 0.5975077748298645),\n",
       " ('inhibit', 0.5852774977684021),\n",
       " ('contain', 0.5721020102500916),\n",
       " ('acquire', 0.571570098400116),\n",
       " ('mitigate', 0.5679916739463806),\n",
       " ('strengthen', 0.5678445100784302),\n",
       " ('tame', 0.5632448196411133),\n",
       " ('minimize', 0.5629931688308716),\n",
       " ('alleviate', 0.5612228512763977),\n",
       " ('satisfy', 0.5578768849372864),\n",
       " ('articulate', 0.5574641823768616),\n",
       " ('improve', 0.5559655427932739),\n",
       " ('overcome', 0.5559239983558655),\n",
       " ('redirect', 0.5545377135276794),\n",
       " ('soothe', 0.5531738996505737),\n",
       " ('organise', 0.5513549447059631),\n",
       " ('maintain', 0.5494052767753601)]"
      ]
     },
     "execution_count": 128,
     "metadata": {},
     "output_type": "execute_result"
    }
   ],
   "source": [
    "adhd_model.wv.most_similar(\"regulate\", topn=20)"
   ]
  },
  {
   "cell_type": "code",
   "execution_count": null,
   "id": "d18b8603",
   "metadata": {},
   "outputs": [],
   "source": []
  }
 ],
 "metadata": {
  "kernelspec": {
   "display_name": "Python 3",
   "language": "python",
   "name": "python3"
  },
  "language_info": {
   "codemirror_mode": {
    "name": "ipython",
    "version": 3
   },
   "file_extension": ".py",
   "mimetype": "text/x-python",
   "name": "python",
   "nbconvert_exporter": "python",
   "pygments_lexer": "ipython3",
   "version": "3.7.10"
  }
 },
 "nbformat": 4,
 "nbformat_minor": 5
}
